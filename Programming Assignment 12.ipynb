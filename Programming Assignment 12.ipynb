{
 "cells": [
  {
   "cell_type": "markdown",
   "id": "dd21f6d2",
   "metadata": {},
   "source": [
    "# Python Advance Programming Assignment 12"
   ]
  },
  {
   "cell_type": "code",
   "execution_count": 10,
   "id": "d805f31a",
   "metadata": {
    "scrolled": true
   },
   "outputs": [
    {
     "name": "stdout",
     "output_type": "stream",
     "text": [
      "515\n",
      "1103\n",
      "31499\n"
     ]
    }
   ],
   "source": [
    "'''Q1. For this challenge, forget how to add two numbers together. The best explanation on what to do for this function is this meme:\n",
    "Examples\n",
    "\n",
    "meme_sum(26, 39) ➞ 515\n",
    "# 2+3 = 5, 6+9 = 15\n",
    "# 26 + 39 = 515\n",
    "\n",
    "meme_sum(122, 81) ➞ 1103\n",
    "# 1+0 = 1, 2+8 = 10, 2+1 = 3\n",
    "# 122 + 81 = 1103\n",
    "\n",
    "meme_sum(1222, 30277) ➞ 31499'''\n",
    "def meme_sum(num1, num2):\n",
    "    a, b = str(num1) , str(num2)\n",
    "    \n",
    "    #To make len of a and b the same\n",
    "    if len(a)<len(b):\n",
    "        a = \"0\"*(len(b)-len(a)) + a\n",
    "    else:\n",
    "        b = \"0\"*(len(a)-len(b)) + b\n",
    "    \n",
    "    #logic\n",
    "    res = \"\"\n",
    "    for i in range(len(b)):\n",
    "        sum = int(a[i])+int(b[i])\n",
    "        res = res + str(sum)\n",
    "    print(res)\n",
    "            \n",
    "meme_sum(26, 39)\n",
    "meme_sum(122, 81)   \n",
    "meme_sum(1222,30277)"
   ]
  },
  {
   "cell_type": "code",
   "execution_count": 14,
   "id": "edaf1e20",
   "metadata": {},
   "outputs": [
    {
     "name": "stdout",
     "output_type": "stream",
     "text": [
      "13\n",
      "29\n",
      "11\n"
     ]
    }
   ],
   "source": [
    "'''Q2. Given an integer, create a function that returns the next prime. If the number is prime, return the number itself.\n",
    "\n",
    "Examples\n",
    "\n",
    "next_prime(12) ➞ 13\n",
    "\n",
    "next_prime(24) ➞ 29\n",
    "\n",
    "next_prime(11) ➞ 11\n",
    "# 11 is a prime, so we return the number itself.'''\n",
    "\n",
    "\n",
    "def isPrime(n):\n",
    "     \n",
    "    if(n <= 1):\n",
    "        return False\n",
    "    if(n <= 3):\n",
    "        return True\n",
    "     \n",
    "\n",
    "    if(n % 2 == 0 or n % 3 == 0):\n",
    "        return False\n",
    "     \n",
    "    for i in range(5,int(math.sqrt(n) + 1), 6):\n",
    "        if(n % i == 0 or n % (i + 2) == 0):\n",
    "            return False\n",
    "     \n",
    "    return True\n",
    " \n",
    "\n",
    "def next_prime(N):\n",
    "\n",
    "    if (N <= 1):\n",
    "        return 2\n",
    " \n",
    "    prime = N-1\n",
    "    found = False\n",
    " \n",
    "    \n",
    "    while(not found):\n",
    "        prime = prime + 1\n",
    " \n",
    "        if(isPrime(prime) == True):\n",
    "            found = True\n",
    "        \n",
    " \n",
    "    return prime\n",
    " \n",
    "print(next_prime(12))\n",
    "print(next_prime(24))\n",
    "print(next_prime(11))"
   ]
  },
  {
   "cell_type": "code",
   "execution_count": 33,
   "id": "f609b5ad",
   "metadata": {},
   "outputs": [
    {
     "name": "stdout",
     "output_type": "stream",
     "text": [
      "30.0\n",
      "15.0\n",
      "12.0\n"
     ]
    }
   ],
   "source": [
    "'''Q3. If a person traveled up a hill for 18mins at 20mph and then traveled back down the same path at 60mph then their average speed traveled was 30mph.\n",
    "\n",
    "Write a function that returns the average speed traveled given an uphill time, uphill rate and a downhill rate. Uphill time is given in minutes. Return the rate as an integer (mph). No rounding is necessary.\n",
    "\n",
    "Examples\n",
    "\n",
    "ave_spd(18, 20, 60) ➞ 30\n",
    "\n",
    "ave_spd(30, 10, 30) ➞ 15\n",
    "\n",
    "ave_spd(30, 8, 24) ➞ 12'''\n",
    "\n",
    "def ave_spd(a,b,c):\n",
    "    print(c/2)\n",
    "    \n",
    "ave_spd(18, 20, 60)\n",
    "ave_spd(30, 10, 30)\n",
    "ave_spd(30, 8, 24)"
   ]
  },
  {
   "cell_type": "code",
   "execution_count": 7,
   "id": "23804484",
   "metadata": {},
   "outputs": [
    {
     "name": "stdout",
     "output_type": "stream",
     "text": [
      "2\n",
      "5\n",
      "3\n",
      "5\n",
      "2\n"
     ]
    }
   ],
   "source": [
    "'''Q4. The Kempner Function, applied to a composite number, permits to find the smallest integer greater than zero whose factorial is exactly divided by the number.\n",
    "\n",
    "kempner(6) ➞ 3\n",
    "\n",
    "1! = 1 % 6 > 0\n",
    "2! = 2 % 6 > 0\n",
    "3! = 6 % 6 === 0\n",
    "\n",
    "kempner(10) ➞ 5\n",
    "\n",
    "1! = 1 % 10 > 0\n",
    "2! = 2 % 10 > 0\n",
    "3! = 6 % 10 > 0\n",
    "4! = 24 % 10 > 0\n",
    "5! = 120 % 10 === 0\n",
    "\n",
    "A Kempner Function applied to a prime will always return the prime itself.\n",
    "\n",
    "kempner(2) ➞ 2\n",
    "kempner(5) ➞ 5\n",
    "\n",
    "Given an integer n, implement a Kempner Function.\n",
    "\n",
    "Examples\n",
    "\n",
    "kempner(6) ➞ 3\n",
    "\n",
    "kempner(10) ➞ 5\n",
    "\n",
    "kempner(2) ➞ 2'''\n",
    "\n",
    "def fact(n):\n",
    "    if n<=1:\n",
    "        return 1\n",
    "    else:\n",
    "        return(n*fact(n-1))\n",
    "def kempner(num):\n",
    "    count = 0\n",
    "    found = False\n",
    "    \n",
    "    while (not found):\n",
    "        count = count + 1\n",
    "        x = fact(count)\n",
    "        if x % num == 0:\n",
    "            print(count)\n",
    "            found = True\n",
    "            return\n",
    "            \n",
    "            \n",
    "kempner(2)\n",
    "kempner(5)\n",
    "kempner(6)\n",
    "kempner(10)\n",
    "kempner(2) \n",
    "\n",
    "        "
   ]
  },
  {
   "cell_type": "code",
   "execution_count": 29,
   "id": "7b395dcc",
   "metadata": {},
   "outputs": [
    {
     "name": "stdout",
     "output_type": "stream",
     "text": [
      "5\n"
     ]
    }
   ],
   "source": [
    "'''Q5. You work in a factory, and your job is to take items from a conveyor belt and pack them into boxes. Each box can hold a maximum of 10 kgs. Given a list containing the weight (in kg) of each item, how many boxes would you need to pack all of the items?\n",
    "\n",
    "Example\n",
    "\n",
    "boxes([2, 1, 2, 5, 4, 3, 6, 1, 1, 9, 3, 2]) ➞ 5\n",
    "\n",
    "# Box 1 = [2, 1, 2, 5] (10kg)\n",
    "# Box 2 = [4, 3] (7kg)\n",
    "# Box 3 = [6, 1, 1] (8kg)\n",
    "# Box 4 = [9] (9kg)\n",
    "# Box 5 = [3, 2] (5kg)'''\n",
    "\n",
    "def boxes(lst):\n",
    "    weight = 10\n",
    "    sum = 0\n",
    "    boxes = 1\n",
    "    for i in lst:\n",
    "        sum = sum + i\n",
    "        if sum == 10:\n",
    "            boxes += 1\n",
    "            sum = 0\n",
    "        elif sum > 10:\n",
    "            sum = i\n",
    "            boxes += 1\n",
    "    print(boxes)\n",
    "    return\n",
    "\n",
    "boxes([2, 1, 2, 5, 4, 3, 6, 1, 1, 9, 3, 2])"
   ]
  }
 ],
 "metadata": {
  "kernelspec": {
   "display_name": "Python 3",
   "language": "python",
   "name": "python3"
  },
  "language_info": {
   "codemirror_mode": {
    "name": "ipython",
    "version": 3
   },
   "file_extension": ".py",
   "mimetype": "text/x-python",
   "name": "python",
   "nbconvert_exporter": "python",
   "pygments_lexer": "ipython3",
   "version": "3.8.8"
  }
 },
 "nbformat": 4,
 "nbformat_minor": 5
}
