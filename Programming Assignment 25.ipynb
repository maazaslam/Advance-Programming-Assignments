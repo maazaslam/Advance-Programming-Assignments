{
 "cells": [
  {
   "cell_type": "markdown",
   "id": "2929f035",
   "metadata": {},
   "source": [
    "# Python Advance Programming Assignment 25"
   ]
  },
  {
   "cell_type": "markdown",
   "id": "a1eee76e",
   "metadata": {},
   "source": [
    "### Q1. \n",
    "Write four functions that directly mutate a list:\n",
    "\n",
    "    1. repeat(lst, n): Repeat lst n times.\n",
    "    2. add(lst, x): Adds x to the end of the lst.\n",
    "    3. remove(lst, m, n): Removes all elements between indices m and n inclusive in lst.\n",
    "    4. concat(lst, x): concatenates lst with x (another list).\n",
    "\n",
    "Examples\n",
    "\n",
    "lst = [1, 2, 3, 4]\n",
    "\n",
    "repeat(lst, 3) ➞ [1, 2, 3, 4, 1, 2, 3, 4, 1, 2, 3, 4] \n",
    "\n",
    "add(lst, 1) ➞ [1, 2, 3, 4, 1, 2, 3, 4, 1, 2, 3, 4, 1]\n",
    "\n",
    "remove(lst, 1, 12) ➞ [1]\n",
    "\n",
    "concat(lst, [3, 4]) ➞ [1, 3, 4]"
   ]
  },
  {
   "cell_type": "code",
   "execution_count": 26,
   "id": "748efb6f",
   "metadata": {},
   "outputs": [
    {
     "name": "stdout",
     "output_type": "stream",
     "text": [
      "[1, 2, 3, 4, 1, 2, 3, 4, 1, 2, 3, 4]\n",
      "[1, 2, 3, 4, 1, 2, 3, 4, 1, 2, 3, 4, 1]\n",
      "[1]\n",
      "[1, 3, 4]\n"
     ]
    }
   ],
   "source": [
    "def repeat(lst, size):\n",
    "    lst = lst*size\n",
    "    return lst\n",
    "def add(lst,number):\n",
    "    lst = repeat(lst,3)\n",
    "    lst.append(number)\n",
    "    return lst\n",
    "def remove(lst, index_first, index_end):\n",
    "    lst = add(lst,1)[index_end:]\n",
    "    return lst\n",
    "def concat(lst, lst1):\n",
    "    lst = remove(lst, 1, 12)\n",
    "    lst.append(lst1[0])\n",
    "    lst.append(lst1[1])\n",
    "    return lst\n",
    "\n",
    "lst = [1, 2, 3, 4]\n",
    "print(repeat(lst, 3))\n",
    "print(add(lst, 1))\n",
    "print(remove(lst, 1, 12))\n",
    "print(concat(lst, [3, 4]))"
   ]
  },
  {
   "cell_type": "markdown",
   "id": "322522df",
   "metadata": {},
   "source": [
    "### Q2. \n",
    "The classic game of Mastermind is played on a tray on which the Mastermind conceals a code and the Guesser has 10 \n",
    "tries to guess it. The code is a sequence of 4 (or 6, sometimes more) pegs of different colors. Each guess is a \n",
    "corresponding sequence of 4 (or more) pegs of different colors. A guess is \"correct\" when the color of every peg \n",
    "in the guess exactly matches the corresponding peg in the Mastermind's code.\n",
    "\n",
    "After each guess by the Guesser, the Mastermind will give a score comprising black & white pegs, not arranged in any order:\n",
    "\n",
    "   - Black peg == guess peg matches the color of a code peg in the same position.\n",
    "   - White peg == guess peg matches the color of a code peg in another position.\n",
    "\n",
    "Create a function that takes two strings, code and guess as arguments, and returns the score in a dictionary.\n",
    "\n",
    "   - The code and guess are strings of numeric digits\n",
    "   - The color of the pegs are represented by numeric digits\n",
    "   - no \"peg\" may be double-scored\n",
    "\n",
    "Examples\n",
    "\n",
    "guess_score(\"1423\", \"5678\") ➞ {\"black\": 0, \"white\": 0}\n",
    "\n",
    "guess_score(\"1423\", \"2222\") ➞ {\"black\": 1, \"white\": 0}\n",
    "\n",
    "guess_score(\"1423\", \"1234\") ➞ {\"black\": 1, \"white\": 3}\n",
    "\n",
    "guess_score(\"1423\", \"2211\") ➞ {\"black\": 0, \"white\": 2}"
   ]
  },
  {
   "cell_type": "code",
   "execution_count": 53,
   "id": "21b6451e",
   "metadata": {},
   "outputs": [
    {
     "name": "stdout",
     "output_type": "stream",
     "text": [
      "{'black': 0, 'white': 0}\n",
      "{'black': 1, 'white': 0}\n",
      "{'black': 1, 'white': 3}\n",
      "{'black': 0, 'white': 2}\n"
     ]
    }
   ],
   "source": [
    "def guess_score(code, guess):\n",
    "    res = {'black':0, 'white':0}\n",
    "    index_black = []\n",
    "    for i in range(len(code)):\n",
    "        \n",
    "        if code[i] == guess[i]:\n",
    "            res['black']= res[\"black\"] +  1\n",
    "            index_black.append(i)\n",
    "    \n",
    "    for i in set(guess):\n",
    "        try:\n",
    "            if code[code.index(i)] != guess[code.index(i)]:\n",
    "                if i in code:\n",
    "                    res['white'] +=1\n",
    "        except:\n",
    "            continue\n",
    "        \n",
    "    return res\n",
    "            \n",
    "        \n",
    "        \n",
    "\n",
    "print(guess_score(\"1423\", \"5678\"))\n",
    "print(guess_score(\"1423\", \"2222\"))\n",
    "print(guess_score(\"1423\", \"1234\"))\n",
    "print(guess_score(\"1423\", \"2211\"))"
   ]
  },
  {
   "cell_type": "markdown",
   "id": "6d82a329",
   "metadata": {},
   "source": [
    "### Q3. \n",
    "Create a function that takes a list lst and a number N and returns a list of two integers from lst whose product \n",
    "equals N.\n",
    "\n",
    "Examples\n",
    "\n",
    "two_product([1, 2, -1, 4, 5], 20) ➞ [4, 5]\n",
    "\n",
    "two_product([1, 2, 3, 4, 5], 10) ➞ [2, 5]\n",
    "\n",
    "two_product([100, 12, 4, 1, 2], 15) ➞ None\n"
   ]
  },
  {
   "cell_type": "code",
   "execution_count": 56,
   "id": "3a5ab32c",
   "metadata": {},
   "outputs": [
    {
     "name": "stdout",
     "output_type": "stream",
     "text": [
      "[[4, 5]]\n",
      "[[2, 5]]\n",
      "None\n"
     ]
    }
   ],
   "source": [
    "def two_product(lst, N):\n",
    "    result = []\n",
    "    for i in range(len(lst)):\n",
    "        for j in range(i,len(lst)):\n",
    "            if lst[i]*lst[j] == N:\n",
    "                result.append([lst[i],lst[j]])\n",
    "    \n",
    "    if len(result) == 0:\n",
    "        return None\n",
    "                \n",
    "    return result\n",
    "print(two_product([1, 2, -1, 4, 5], 20))\n",
    "print(two_product([1, 2, 3, 4, 5], 10))\n",
    "print(two_product([100, 12, 4, 1, 2], 15))"
   ]
  },
  {
   "cell_type": "markdown",
   "id": "7b032b0a",
   "metadata": {},
   "source": [
    "### Q4. \n",
    "In this challenge, sort a list containing a series of dates given as strings. Each date is given in the format DD-MM-YYYY_HH:MM:\n",
    "\n",
    "\"12-02-2012_13:44\"\n",
    "\n",
    "The priority of criteria used for sorting will be:\n",
    "\n",
    "  - Year\n",
    "  - Month\n",
    "  - Day\n",
    "  - Hours\n",
    "  - Minutes\n",
    "\n",
    "Given a list lst and a string mode, implement a function that returns:\n",
    "\n",
    "   - if mode is equal to \"ASC\", the list lst sorted in ascending order.\n",
    "   - if mode is equal to \"DSC\", the list lst sorted in descending order.\n",
    "\n",
    "Examples\n",
    "\n",
    "sort_dates([\"10-02-2018_12:30\", \"10-02-2016_12:30\", \"10-02-2018_12:15\"], \"ASC\") ➞ [\"10-02-2016_12:30\", \"10-02-2018_12:15\", \"10-02-2018_12:30\"]\n",
    "\n",
    "sort_dates([\"10-02-2018_12:30\", \"10-02-2016_12:30\", \"10-02-2018_12:15\"], \"DSC\") ➞ [\"10-02-2018_12:30\", \"10-02-2018_12:15\", \"10-02-2016_12:30\"]\n",
    "\n",
    "sort_dates([\"09-02-2000_10:03\", \"10-02-2000_18:29\", \"01-01-1999_00:55\"], \"ASC\") ➞ [\"01-01-1999_00:55\", \"09-02-2000_10:03\", \"10-02-2000_18:29\"]\n"
   ]
  },
  {
   "cell_type": "code",
   "execution_count": 77,
   "id": "d0b6d678",
   "metadata": {},
   "outputs": [
    {
     "name": "stdout",
     "output_type": "stream",
     "text": [
      "['10-02-2016_12:30', '10-02-2018_12:15', '10-02-2018_12:30']\n",
      "['10-02-2018_12:30', '10-02-2018_12:15', '10-02-2016_12:30']\n",
      "['01-01-1999_00:55', '09-02-2000_10:03', '10-02-2000_18:29']\n"
     ]
    }
   ],
   "source": [
    "from datetime import datetime\n",
    "\n",
    "def sort_dates(dates, order):\n",
    "    dates.sort(key = lambda i: datetime.strptime(i, '%d-%m-%Y_%H:%M'))\n",
    "    if order == 'ASC':\n",
    "        return dates\n",
    "    else:\n",
    "        return dates[::-1]\n",
    "            \n",
    "print(sort_dates([\"10-02-2018_12:30\", \"10-02-2016_12:30\", \"10-02-2018_12:15\"], 'ASC'))\n",
    "print(sort_dates([\"10-02-2018_12:30\", \"10-02-2016_12:30\", \"10-02-2018_12:15\"], \"DSC\"))\n",
    "print(sort_dates([\"09-02-2000_10:03\", \"10-02-2000_18:29\", \"01-01-1999_00:55\"], \"ASC\"))"
   ]
  },
  {
   "cell_type": "markdown",
   "id": "c0bc58dd",
   "metadata": {},
   "source": [
    "### Q5. \n",
    "Write a function that selects all words that have all the same vowels (in any order and/or number) as the first word, including the first word.\n",
    "\n",
    "Examples\n",
    "\n",
    "same_vowel_group([\"toe\", \"ocelot\", \"maniac\"]) ➞ [\"toe\", \"ocelot\"]\n",
    "\n",
    "same_vowel_group([\"many\", \"carriage\", \"emit\", \"apricot\", \"animal\"]) ➞ [\"many\"]\n",
    "\n",
    "same_vowel_group([\"hoops\", \"chuff\", \"bot\", \"bottom\"]) ➞ [\"hoops\", \"bot\", \"bottom\"]"
   ]
  },
  {
   "cell_type": "code",
   "execution_count": 98,
   "id": "24d76482",
   "metadata": {},
   "outputs": [
    {
     "name": "stdout",
     "output_type": "stream",
     "text": [
      "['ocelot', 'toe']\n",
      "['many']\n",
      "['bottom', 'hoops', 'bot']\n"
     ]
    }
   ],
   "source": [
    "def same_vowel_group(words):\n",
    "    vowels = 'aeiou'\n",
    "    vowel_first_word = []\n",
    "    result = []\n",
    "    \n",
    "    for i in words[0]:\n",
    "        if i in vowels:\n",
    "            vowel_first_word.append(i)\n",
    "    vowel_first_word = \"\".join(vowel_first_word)\n",
    "    \n",
    "    for word in words:\n",
    "        for letter in set(vowel_first_word):\n",
    "            if letter in word:\n",
    "                if len(vowel_first_word) > 1:\n",
    "                    result.append(word)\n",
    "    if len(result) == 0:\n",
    "        result.append(words[0])\n",
    "    result = set(result)\n",
    "    return list(result)\n",
    "\n",
    "print(same_vowel_group([\"toe\", \"ocelot\", \"maniac\"]))\n",
    "print(same_vowel_group([\"many\", \"carriage\", \"emit\", \"apricot\", \"animal\"]))\n",
    "print(same_vowel_group([\"hoops\", \"chuff\", \"bot\", \"bottom\"]) )"
   ]
  },
  {
   "cell_type": "markdown",
   "id": "fbaacc85",
   "metadata": {},
   "source": [
    "### Q6. \n",
    "Create a function that takes a list of more than three numbers and returns the Least Common Multiple (LCM).\n",
    "\n",
    "Examples\n",
    "\n",
    "lcm_of_list([1, 2, 3, 4, 5, 6, 7, 8, 9, 10]) ➞ 2520\n",
    "\n",
    "lcm_of_list([13, 6, 17, 18, 19, 20, 37]) ➞ 27965340\n",
    "\n",
    "lcm_of_list([44, 64, 12, 17, 65]) ➞ 2333760"
   ]
  },
  {
   "cell_type": "code",
   "execution_count": 101,
   "id": "90a3a5ac",
   "metadata": {},
   "outputs": [
    {
     "name": "stdout",
     "output_type": "stream",
     "text": [
      "2520\n",
      "27965340\n",
      "2333760\n"
     ]
    }
   ],
   "source": [
    "from math import gcd\n",
    "\n",
    "def lcm_of_list(lst):\n",
    "    if len(lst)>=3:\n",
    "        lcm = 1\n",
    "        for num in lst:\n",
    "            lcm = lcm*num//gcd(lcm, num)\n",
    "        return lcm\n",
    "    else:\n",
    "        return \"Length of list of numbers must be greater than 3\"\n",
    "    \n",
    "print(lcm_of_list([1, 2, 3, 4, 5, 6, 7, 8, 9, 10]))\n",
    "print(lcm_of_list([13, 6, 17, 18, 19, 20, 37]))\n",
    "print(lcm_of_list([44, 64, 12, 17, 65]))\n"
   ]
  }
 ],
 "metadata": {
  "kernelspec": {
   "display_name": "Python 3",
   "language": "python",
   "name": "python3"
  },
  "language_info": {
   "codemirror_mode": {
    "name": "ipython",
    "version": 3
   },
   "file_extension": ".py",
   "mimetype": "text/x-python",
   "name": "python",
   "nbconvert_exporter": "python",
   "pygments_lexer": "ipython3",
   "version": "3.8.8"
  }
 },
 "nbformat": 4,
 "nbformat_minor": 5
}
