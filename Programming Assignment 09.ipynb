{
 "cells": [
  {
   "cell_type": "markdown",
   "id": "0728660f",
   "metadata": {},
   "source": [
    "# Python Advance Programming Assignment 09"
   ]
  },
  {
   "cell_type": "code",
   "execution_count": 45,
   "id": "29802ecd",
   "metadata": {},
   "outputs": [
    {
     "name": "stdout",
     "output_type": "stream",
     "text": [
      "00:15:00\n",
      "00:53:20\n",
      "102:40:18\n"
     ]
    }
   ],
   "source": [
    "'''Q1. YouTube offers different playback speed options for users. This allows users to increase or decrease the speed of the video content. Given the actual duration and playback speed of the video, calculate the playback duration of the video.\n",
    "\n",
    "Examples\n",
    "\n",
    "playback_duration(\"00:30:00\", 2) ➞ \"00:15:00\"\n",
    "\n",
    "playback_duration(\"01:20:00\", 1.5) ➞ \"00:53:20\"\n",
    "\n",
    "playback_duration(\"51:20:09\", 0.5) ➞ \"102:40:18\"'''\n",
    "\n",
    "def playback_duration(string, number):\n",
    "    seconds = int(string[-2:])\n",
    "    minutes = int(string[-5:-3])\n",
    "    hours = int(string[:-6])\n",
    "    total_seconds = (hours*60*60)+(minutes*60)+seconds\n",
    "    divide = int(total_seconds/number)\n",
    "    res_h,res_m,res_s = 0,0,0\n",
    "    for i in range(3):\n",
    "        if divide>3600:\n",
    "            res_h =int(divide/3600)\n",
    "            divide = divide%3600\n",
    "        elif divide > 60:\n",
    "            res_m = int(divide/60)\n",
    "            divide = divide%60\n",
    "        else:\n",
    "            res_s = divide\n",
    "    time = f\"{res_h:02}\"+\":\"+ f\"{res_m:02}\"+\":\"+f\"{res_s:02}\"\n",
    "    print(time)\n",
    "playback_duration(\"00:30:00\", 2)\n",
    "playback_duration(\"01:20:00\", 1.5)\n",
    "playback_duration(\"51:20:09\", 0.5)"
   ]
  },
  {
   "cell_type": "code",
   "execution_count": 54,
   "id": "19e189e4",
   "metadata": {},
   "outputs": [
    {
     "name": "stdout",
     "output_type": "stream",
     "text": [
      "45\n",
      "2022\n",
      "None\n"
     ]
    }
   ],
   "source": [
    "'''Q2. We needs your help to construct a building which will be a pile of n cubes. The cube at the bottom will have a volume of n^3, the cube above will have volume of (n-1)^3 and so on until the top which will have a volume of 1^3.\n",
    "\n",
    "Given the total volume m of the building, can you find the number of cubes n required for the building?\n",
    "\n",
    "In other words, you have to return an integer n such that:\n",
    "\n",
    "n^3 + (n-1)^3 + ... + 1^3 == m\n",
    "\n",
    "Return None if there is no such number.\n",
    "\n",
    "Examples\n",
    "\n",
    "pile_of_cubes(1071225) ➞ 45\n",
    "\n",
    "pile_of_cubes(4183059834009) ➞ 2022\n",
    "\n",
    "pile_of_cubes(16) ➞ None'''\n",
    "\n",
    "def pile_of_cubes(m):\n",
    "    x = m**0.5\n",
    "    if (x%1==0):\n",
    "        c = 1\n",
    "        while (x!=c and x>0):\n",
    "            x = x-c\n",
    "            c = c+1\n",
    "        if x == c:\n",
    "            print(c)\n",
    "            \n",
    "        else:\n",
    "            print(\"None\")\n",
    "\n",
    "pile_of_cubes(1071225)\n",
    "pile_of_cubes(4183059834009)\n",
    "pile_of_cubes(16)"
   ]
  },
  {
   "cell_type": "code",
   "execution_count": 74,
   "id": "56789e6c",
   "metadata": {},
   "outputs": [
    {
     "name": "stdout",
     "output_type": "stream",
     "text": [
      "4\n",
      "1\n",
      "0\n",
      "-1\n"
     ]
    }
   ],
   "source": [
    "'''Q3.A fulcrum of a list is an integer such that all elements to the left of it and all elements to the right of it sum to the same value. Write a function that finds the fulcrum of a list.\n",
    "\n",
    "To illustrate:\n",
    "\n",
    "find_fulcrum([3, 1, 5, 2, 4, 6, -1]) ➞ 2\n",
    "// Since [3, 1, 5] and [4, 6, -1] both sum to 9\n",
    "\n",
    "Examples\n",
    "\n",
    "find_fulcrum([1, 2, 4, 9, 10, -10, -9, 3]) ➞ 4\n",
    "\n",
    "find_fulcrum([9, 1, 9]) ➞ 1\n",
    "\n",
    "find_fulcrum([7, -1, 0, -1, 1, 1, 2, 3]) ➞ 0\n",
    "\n",
    "find_fulcrum([8, 8, 8, 8]) ➞ -1'''\n",
    "\n",
    "def find_fulcrum(lst):\n",
    "    for i in range(1,len(lst)):\n",
    "        lst1 = lst[:i]\n",
    "        lst2 = lst[i+1:]\n",
    "        res1 = 0\n",
    "        res2 = 0\n",
    "        for j in lst1:\n",
    "            res1 = res1 + j\n",
    "        for k in lst2:\n",
    "            res2 +=k\n",
    "        if (res1) == res2:\n",
    "            print(lst[i])\n",
    "            return None\n",
    "    else:\n",
    "        print(\"-1\")\n",
    "        return None\n",
    "\n",
    "\n",
    "find_fulcrum([1, 2, 4, 9, 10, -10, -9, 3])\n",
    "find_fulcrum([9, 1, 9])\n",
    "find_fulcrum([7, -1, 0, -1, 1, 1, 2, 3])\n",
    "find_fulcrum([8, 8, 8, 8])\n",
    "        \n",
    "    \n",
    "    "
   ]
  },
  {
   "cell_type": "code",
   "execution_count": 77,
   "id": "7014e779",
   "metadata": {},
   "outputs": [
    {
     "name": "stdout",
     "output_type": "stream",
     "text": [
      "3\n",
      "4\n",
      "0\n"
     ]
    }
   ],
   "source": [
    "'''Q4. Given a list of integers representing the color of each sock, determine how many pairs of socks with matching colors there are. For example, there are 7 socks with colors [1, 2, 1, 2, 1, 3, 2]. There is one pair of color 1 and one of color 2. There are three odd socks left, one of each color. The number of pairs is 2.\n",
    "\n",
    "Create a function that returns an integer representing the number of matching pairs of socks that are available.\n",
    "\n",
    "Examples\n",
    "\n",
    "sock_merchant([10, 20, 20, 10, 10, 30, 50, 10, 20]) ➞ 3\n",
    "\n",
    "sock_merchant([50, 20, 30, 90, 30, 20, 50, 20, 90]) ➞ 4\n",
    "\n",
    "sock_merchant([]) ➞ 0'''\n",
    "\n",
    "def sock_merchant(lst):\n",
    "    dic = {}\n",
    "    for i in lst:\n",
    "        dic[i] = dic.get(i,0)+1\n",
    "    pairs = 0    \n",
    "    for value in dic.values():\n",
    "        if value > 1:\n",
    "            pairs += int(value/2)\n",
    "    print(pairs)\n",
    "    return None\n",
    "\n",
    "sock_merchant([10, 20, 20, 10, 10, 30, 50, 10, 20])\n",
    "sock_merchant([50, 20, 30, 90, 30, 20, 50, 20, 90])\n",
    "sock_merchant([])"
   ]
  },
  {
   "cell_type": "code",
   "execution_count": 42,
   "id": "65ab4a23",
   "metadata": {
    "scrolled": true
   },
   "outputs": [
    {
     "name": "stdout",
     "output_type": "stream",
     "text": [
      "-23\n",
      "-33\n"
     ]
    }
   ],
   "source": [
    "'''Q5. Create a function that takes a string containing integers as well as other characters and return the sum of the negative integers only.\n",
    "\n",
    "Examples\n",
    "\n",
    "negative_sum(\"-12 13%14&-11\") ➞ -23\n",
    "# -12 + -11 = -23\n",
    "\n",
    "negative_sum(\"22 13%14&-11-22 13 12\") ➞ -33\n",
    "# -11 + -22 = -33'''\n",
    "def negative_sum(string):\n",
    "    add = []\n",
    "    for i in range(len(string)):\n",
    "        if string[i] == \"-\":\n",
    "            a = \"\"\n",
    "            for j in range(i+1 , len(string)):\n",
    "                if not string[j].isnumeric():\n",
    "                    break\n",
    "                elif string[j].isnumeric():\n",
    "                    a+=string[j]\n",
    "            add.append(a)\n",
    "    sum = 0 \n",
    "    for i in add:\n",
    "        sum = sum - int(i)\n",
    "    print(sum)\n",
    "        \n",
    "                    \n",
    "\n",
    "negative_sum(\"-12 13%14&-11\")\n",
    "negative_sum(\"22 13%14&-11-22 13 12\")"
   ]
  }
 ],
 "metadata": {
  "kernelspec": {
   "display_name": "Python 3",
   "language": "python",
   "name": "python3"
  },
  "language_info": {
   "codemirror_mode": {
    "name": "ipython",
    "version": 3
   },
   "file_extension": ".py",
   "mimetype": "text/x-python",
   "name": "python",
   "nbconvert_exporter": "python",
   "pygments_lexer": "ipython3",
   "version": "3.8.8"
  }
 },
 "nbformat": 4,
 "nbformat_minor": 5
}
