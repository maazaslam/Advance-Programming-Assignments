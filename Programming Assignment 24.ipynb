{
 "cells": [
  {
   "cell_type": "markdown",
   "id": "3645a8d7",
   "metadata": {},
   "source": [
    "# Python Advance Programming Assignment 24"
   ]
  },
  {
   "cell_type": "markdown",
   "id": "d13c650a",
   "metadata": {},
   "source": [
    "### Q1. \n",
    "Implement a class iterator to flatten a nested list of lists of integers. Each list element is either an integer or a list. There can be many levels of nested lists in lists.\n",
    "\n",
    "The class initializes with a nested list. It also has two methods:\n",
    "\n",
    "  1. next() returns an integer in the order of appearance.\n",
    "  2. hasNext() returns True / False regarding if all integers have been retrieved or not.\n",
    "\n",
    "Write the Class implementation for three required methods.\n",
    "\n",
    "Examples\n",
    "\n",
    "ni, actual = NestedIterator([[1, 1], 2, [1, 1]]), []\n",
    "while ni.hasNext():\n",
    "    actual.append(ni.next())\n",
    "actual ➞ [1, 1, 2, 1, 1]\n",
    "\n",
    "ni, actual = NestedIterator([1, [4, [6]]]), []\n",
    "while ni.hasNext():\n",
    "    actual.append(ni.next())\n",
    "actual ➞ [1, 4, 6]\n",
    "\n",
    "ni, actual = NestedIterator([[[]], []]), []\n",
    "while ni.hasNext():\n",
    "    actual.append(ni.next())\n",
    "actual ➞ []\n"
   ]
  },
  {
   "cell_type": "code",
   "execution_count": 48,
   "id": "f5ddb483",
   "metadata": {},
   "outputs": [
    {
     "name": "stdout",
     "output_type": "stream",
     "text": [
      "[1, 1, 2, 1, 1]\n",
      "[1, 4, 6]\n",
      "[]\n"
     ]
    }
   ],
   "source": [
    "class NestedIterator(object):\n",
    "    def __init__(self, nestedList):\n",
    "        self.res = []\n",
    "        self.index = 0\n",
    "        self.getVal(nestedList)\n",
    "        \n",
    "    def getVal(self,NestedList):\n",
    "        for item in NestedList:\n",
    "            if isinstance(item, int):\n",
    "                self.res.append(item)\n",
    "            else:\n",
    "                self.getVal(item)\n",
    "    def next(self):\n",
    "        self.index+=1\n",
    "        return self.res[self.index-1]\n",
    "    \n",
    "    def hasNext(self):\n",
    "        if self.index == len(self.res):\n",
    "            return False\n",
    "        return True\n",
    "    \n",
    "#1:\n",
    "ni, actual = NestedIterator([[1, 1], 2, [1, 1]]), []\n",
    "while ni.hasNext():\n",
    "    actual.append(ni.next())\n",
    "print(actual)\n",
    "\n",
    "#2:\n",
    "ni, actual = NestedIterator([1, [4, [6]]]), []\n",
    "while ni.hasNext():\n",
    "    actual.append(ni.next())\n",
    "print(actual)\n",
    "\n",
    "#3:\n",
    "ni, actual = NestedIterator([[[]], []]), []\n",
    "while ni.hasNext():\n",
    "    actual.append(ni.next())\n",
    "print(actual)"
   ]
  },
  {
   "cell_type": "markdown",
   "id": "8470c01f",
   "metadata": {},
   "source": [
    "### Q3.\n",
    "Given a 3x3 matrix of a completed tic-tac-toe game, create a function that returns whether the game is a win for \"X\", \"O\", or a \"Draw\", where \"X\" and \"O\" represent themselves on the matrix, and \"E\" represents an empty spot.\n",
    "\n",
    "Examples\n",
    "\n",
    "tic_tac_toe([\n",
    "  [\"X\", \"O\", \"X\"],\n",
    "  [\"O\", \"X\",  \"O\"],\n",
    "  [\"O\", \"X\",  \"X\"]\n",
    "]) ➞ \"X\"\n",
    "\n",
    "tic_tac_toe([\n",
    "  [\"O\", \"O\", \"O\"],\n",
    "  [\"O\", \"X\", \"X\"],\n",
    "  [\"E\", \"X\", \"X\"]\n",
    "]) ➞ \"O\"\n",
    "\n",
    "tic_tac_toe([\n",
    "  [\"X\", \"X\", \"O\"],\n",
    "  [\"O\", \"O\", \"X\"],\n",
    "  [\"X\", \"X\", \"O\"]\n",
    "]) ➞ \"Draw\"\n"
   ]
  },
  {
   "cell_type": "code",
   "execution_count": 21,
   "id": "f1008cc0",
   "metadata": {},
   "outputs": [
    {
     "name": "stdout",
     "output_type": "stream",
     "text": [
      "X\n",
      "O\n",
      "Draw\n"
     ]
    }
   ],
   "source": [
    "'''\n",
    "    0    1    2\n",
    "0  00   01    02\n",
    "\n",
    "1  10   11    12\n",
    "\n",
    "2  20   21    22\n",
    "'''\n",
    "def tic_tac_toe(values):\n",
    "    #vertical\n",
    "    if values[0][0] == values[1][0] == values[2][0]:\n",
    "        return values[0][0]\n",
    "        \n",
    "    elif values[0][1] == values[1][1] == values[2][1]:\n",
    "        return values[0][1]\n",
    "    \n",
    "    elif values[0][2] == values[1][2] == values[2][2]:\n",
    "        return values[0][2]\n",
    "        \n",
    "    #horizontal\n",
    "    if values[0][0] == values[0][1] == values[0][2]:\n",
    "        return values[0][0]\n",
    "    \n",
    "    elif values[1][0] == values[1][1] == values[1][2]:\n",
    "        return values[1][0]\n",
    "    \n",
    "    elif values[2][0] == values[2][1] == values[2][2]:\n",
    "        return values[2][0]\n",
    "        \n",
    "    #diagonal\n",
    "    if values[0][0] == values[1][1] == values[2][2]:\n",
    "        return values[0][0]\n",
    "    \n",
    "    elif values[0][2] == values[1][1] == values[2][0]:\n",
    "        return values[0][2]\n",
    "    \n",
    "    else:\n",
    "        return 'Draw'\n",
    "    \n",
    "print(tic_tac_toe([ [\"X\", \"O\", \"X\"], [\"O\", \"X\", \"O\"], [\"O\", \"X\", \"X\"] ]))\n",
    "print(tic_tac_toe([ [\"O\", \"O\", \"O\"], [\"O\", \"X\", \"X\"], [\"E\", \"X\", \"X\"] ]))\n",
    "print(tic_tac_toe([ [\"X\", \"X\", \"O\"], [\"O\", \"O\", \"X\"], [\"X\", \"X\", \"O\"] ]))\n",
    "        "
   ]
  },
  {
   "cell_type": "markdown",
   "id": "155eb3f6",
   "metadata": {},
   "source": [
    "### Q4.\n",
    "Your computer might have been infected by a virus! Create a function that finds the viruses in files and removes them from your computer.\n",
    "\n",
    "Examples\n",
    "\n",
    "remove_virus(\"PC Files: spotifysetup.exe, virus.exe, dog.jpg\") ➞ \"PC Files: spotifysetup.exe, dog.jpg\"\n",
    "\n",
    "remove_virus(\"PC Files: antivirus.exe, cat.pdf, lethalmalware.exe, dangerousvirus.exe \") ➞ \"PC Files: antivirus.exe, cat.pdf\"\n",
    "\n",
    "remove_virus(\"PC Files: notvirus.exe, funnycat.gif\") ➞ \"PC Files: notvirus.exe, funnycat.gif\")\n"
   ]
  },
  {
   "cell_type": "code",
   "execution_count": 22,
   "id": "a5b41ce2",
   "metadata": {},
   "outputs": [
    {
     "name": "stdout",
     "output_type": "stream",
     "text": [
      "PC Files: spotifysetup.exe, dog.jpg\n",
      "PC Files: antivirus.exe, cat.pdf\n",
      "PC Files: notvirus.exe, funnycat.gif\n"
     ]
    }
   ],
   "source": [
    "def remove_virus(file_names):\n",
    "    files = file_names.split(\": \")\n",
    "    files = \"\".join(files[1:]).split(\", \")\n",
    "    \n",
    "    virus_names = ['lethalmalware.exe', 'dangerousvirus.exe ', 'virus.exe']\n",
    "    \n",
    "    result = []\n",
    "    \n",
    "    for file in files:\n",
    "        if file not in virus_names:\n",
    "            result.append(file)\n",
    "            \n",
    "    return f'PC Files: {\", \".join(result)}'\n",
    "\n",
    "print(remove_virus(\"PC Files: spotifysetup.exe, virus.exe, dog.jpg\"))\n",
    "print(remove_virus(\"PC Files: antivirus.exe, cat.pdf, lethalmalware.exe, dangerousvirus.exe \"))\n",
    "print(remove_virus(\"PC Files: notvirus.exe, funnycat.gif\"))"
   ]
  },
  {
   "cell_type": "markdown",
   "id": "89464327",
   "metadata": {},
   "source": [
    "### Q5.\n",
    "In a video game, a meteor will fall toward the main character's home planet. Given the meteor's trajectory as a string in the form y = mx + b and the character's position as a tuple of (x, y), return True if the meteor will hit the character and False if it will not.\n",
    "\n",
    "Examples\n",
    "\n",
    "will_hit(\"y = 2x - 5\", (0, 0)) ➞ False\n",
    "\n",
    "will_hit(\"y = -4x + 6\", (1, 2)) ➞ True\n",
    "\n",
    "will_hit(\"y = 2x + 6\", (3, 2)) ➞ False\n"
   ]
  },
  {
   "cell_type": "code",
   "execution_count": 35,
   "id": "4eb5a98e",
   "metadata": {},
   "outputs": [
    {
     "name": "stdout",
     "output_type": "stream",
     "text": [
      "False\n",
      "True\n",
      "False\n"
     ]
    }
   ],
   "source": [
    "import re\n",
    "def will_hit(trajectory, position):\n",
    "    trajectory_values = re.findall(r'-?\\d+', trajectory)\n",
    "    slope = int(trajectory_values[0])\n",
    "    intercept = int(trajectory_values[1])\n",
    "    \n",
    "    character_position = position[1]\n",
    "    \n",
    "    meteor_position = (slope*position[0]) + intercept\n",
    "    \n",
    "    if character_position == meteor_position:\n",
    "        return True\n",
    "    else:\n",
    "        return False\n",
    "    \n",
    "print(will_hit(\"y = 2x - 5\", (0, 0)))\n",
    "print(will_hit(\"y = -4x + 6\", (1, 2)))\n",
    "print(will_hit(\"y = 2x + 6\", (3, 2)))"
   ]
  }
 ],
 "metadata": {
  "kernelspec": {
   "display_name": "Python 3",
   "language": "python",
   "name": "python3"
  },
  "language_info": {
   "codemirror_mode": {
    "name": "ipython",
    "version": 3
   },
   "file_extension": ".py",
   "mimetype": "text/x-python",
   "name": "python",
   "nbconvert_exporter": "python",
   "pygments_lexer": "ipython3",
   "version": "3.8.8"
  }
 },
 "nbformat": 4,
 "nbformat_minor": 5
}
