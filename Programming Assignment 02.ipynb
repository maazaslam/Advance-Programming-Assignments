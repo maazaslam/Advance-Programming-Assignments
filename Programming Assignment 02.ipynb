{
 "cells": [
  {
   "cell_type": "markdown",
   "id": "48b721f4",
   "metadata": {},
   "source": [
    "# Python Advance Programming Assingnment 2"
   ]
  },
  {
   "cell_type": "code",
   "execution_count": 5,
   "id": "9761c1b6",
   "metadata": {},
   "outputs": [
    {
     "name": "stdout",
     "output_type": "stream",
     "text": [
      "1.0\n",
      "6.0\n",
      "16.0\n",
      "141.0\n"
     ]
    }
   ],
   "source": [
    "'''Q1. Write a function that takes a positive integer num and calculates how many dots exist in a pentagonal shape around the center dot on the Nth iteration.\n",
    "\n",
    "In the image below you can see the first iteration is only a single dot. On the second, there are 6 dots. On the third, there are 16 dots, and on the fourth there are 31 dots.\n",
    "\n",
    "\n",
    "\n",
    "\n",
    "\n",
    "\n",
    "\n",
    "\n",
    "Return the number of dots that exist in the whole pentagon on the Nth iteration.\n",
    "\n",
    "Examples\n",
    "\n",
    "pentagonal(1) ➞ 1\n",
    "\n",
    "pentagonal(2) ➞ 6\n",
    "\n",
    "pentagonal(3) ➞ 16\n",
    "\n",
    "pentagonal(8) ➞ 141'''\n",
    "\n",
    "def pentagonal(num): \n",
    "    num = num - 1\n",
    "    number = ((5*(num**2)) + (5*num) + 2) / 2 \n",
    "    return number\n",
    "\n",
    "print(pentagonal(1))\n",
    "print(pentagonal(2))\n",
    "print(pentagonal(3))\n",
    "print(pentagonal(8))"
   ]
  },
  {
   "cell_type": "code",
   "execution_count": 19,
   "id": "a7d9ca10",
   "metadata": {},
   "outputs": [
    {
     "name": "stdout",
     "output_type": "stream",
     "text": [
      "0n0n0baca\n",
      "0c0r0kaca\n",
      "k0r3baca\n",
      "0c0pl0aca\n"
     ]
    }
   ],
   "source": [
    "'''Q2. Make a function that encrypts a given input with these steps:\n",
    "\n",
    "Input: \"apple\"\n",
    "\n",
    "Step 1: Reverse the input: \"elppa\"\n",
    "\n",
    "Step 2: Replace all vowels using the following chart:\n",
    "\n",
    "a => 0\n",
    "e => 1\n",
    "i => 2\n",
    "o => 2\n",
    "u => 3\n",
    "\n",
    "# \"1lpp0\"\n",
    "\n",
    "Step 3: Add \"aca\" to the end of the word: \"1lpp0aca\"\n",
    "\n",
    "Output: \"1lpp0aca\"\n",
    "\n",
    "Examples\n",
    "\n",
    "encrypt(\"banana\") ➞ \"0n0n0baca\"\n",
    "\n",
    "encrypt(\"karaca\") ➞ \"0c0r0kaca\"\n",
    "\n",
    "encrypt(\"burak\") ➞ \"k0r3baca\"\n",
    "\n",
    "encrypt(\"alpaca\") ➞ \"0c0pl0aca\"'''\n",
    "\n",
    "def encrypt(string):\n",
    "    new_str = string[::-1]\n",
    "    dic = {\"a\":0,\"e\":1,\"i\":2,\"o\":2,\"u\":3,}\n",
    "    res = \"\"\n",
    "    for i in new_str:\n",
    "        if i in dic:\n",
    "            res = res + str(dic[i])\n",
    "        else:\n",
    "            res = res + i\n",
    "    res = res + \"aca\"\n",
    "    print(res)\n",
    "\n",
    "encrypt(\"banana\") \n",
    "\n",
    "encrypt(\"karaca\") \n",
    "\n",
    "encrypt(\"burak\") \n",
    "\n",
    "encrypt(\"alpaca\") "
   ]
  },
  {
   "cell_type": "code",
   "execution_count": 37,
   "id": "9267f30a",
   "metadata": {},
   "outputs": [
    {
     "name": "stdout",
     "output_type": "stream",
     "text": [
      "True\n",
      "True\n",
      "False\n"
     ]
    }
   ],
   "source": [
    "'''Q3. Given the month and year as numbers, return whether that month contains a Friday 13th.(i.e You can check Python's datetime module)\n",
    "\n",
    "Examples\n",
    "\n",
    "has_friday_13(3, 2020) ➞ True\n",
    "\n",
    "has_friday_13(10, 2017) ➞ True\n",
    "\n",
    "has_friday_13(1, 1985) ➞ False'''\n",
    "\n",
    "import datetime\n",
    "import calendar\n",
    "\n",
    "def has_friday_13(num1, num2):\n",
    "    day = 13\n",
    "    month = num1\n",
    "    year = num2\n",
    "    dayNumber = calendar.weekday(year,month, day)\n",
    "    days =[\"Monday\", \"Tuesday\", \"Wednesday\", \"Thursday\",\n",
    "                         \"Friday\", \"Saturday\", \"Sunday\"]\n",
    "    \n",
    "    if days[dayNumber] == \"Friday\":\n",
    "        return True\n",
    "    else:\n",
    "        return False\n",
    "\n",
    "print(has_friday_13(3, 2020))\n",
    "print(has_friday_13(10, 2017))\n",
    "print(has_friday_13(1, 1985))"
   ]
  },
  {
   "cell_type": "code",
   "execution_count": 56,
   "id": "f5df900e",
   "metadata": {},
   "outputs": [
    {
     "data": {
      "text/plain": [
       "2"
      ]
     },
     "execution_count": 56,
     "metadata": {},
     "output_type": "execute_result"
    }
   ],
   "source": [
    "'''Q4. Write a regular expression that will help us count how many bad cookies are produced every day. You must use RegEx negative lookbehind.\n",
    "\n",
    "Example\n",
    "\n",
    "lst = [\"bad cookie\", \"good cookie\", \"bad cookie\", \"good cookie\", \"good cookie\"]\n",
    "pattern = \"yourregularexpressionhere\"\n",
    "\n",
    "len(re.findall(pattern, \", \".join(lst))) ➞ 2'''\n",
    "\n",
    "import re\n",
    "\n",
    "lst = [\"bad cookie\", \"good cookie\", \"bad cookie\", \"good cookie\", \"good cookie\"]\n",
    "pattern = \"bad cookie\"\n",
    "\n",
    "len(re.findall(pattern, \", \".join(lst)))"
   ]
  },
  {
   "cell_type": "code",
   "execution_count": 67,
   "id": "5820701e",
   "metadata": {},
   "outputs": [
    {
     "name": "stdout",
     "output_type": "stream",
     "text": [
      "{'pig', 'cows'}\n",
      "{'tables'}\n",
      "{'arm', 'pencil', 'chair'}\n"
     ]
    }
   ],
   "source": [
    "'''Q5. Given a list of words in the singular form, return a set of those words in the plural form if they appear more than once in the list.\n",
    "\n",
    "Examples\n",
    "\n",
    "pluralize([\"cow\", \"pig\", \"cow\", \"cow\"]) ➞ { \"cows\", \"pig\" }\n",
    "\n",
    "pluralize([\"table\", \"table\", \"table\"]) ➞ { \"tables\" }\n",
    "\n",
    "pluralize([\"chair\", \"pencil\", \"arm\"]) ➞ { \"chair\", \"pencil\", \"arm\" }'''\n",
    "\n",
    "\n",
    "def pluralize(lst):\n",
    "    \n",
    "    dic = {}\n",
    "    for i in lst:\n",
    "        dic[i] = dic.get(i,0) + 1  \n",
    "    \n",
    "    s = set()\n",
    "    for  key, value in dic.items():\n",
    "        if value > 1:\n",
    "            res = key + \"s\"\n",
    "            s.add(res)\n",
    "        \n",
    "        else:\n",
    "            s.add(key)\n",
    "    print(s)\n",
    "    \n",
    "pluralize([\"cow\", \"pig\", \"cow\", \"cow\"])\n",
    "\n",
    "pluralize([\"table\", \"table\", \"table\"])\n",
    "\n",
    "pluralize([\"chair\", \"pencil\", \"arm\"])"
   ]
  }
 ],
 "metadata": {
  "kernelspec": {
   "display_name": "Python 3",
   "language": "python",
   "name": "python3"
  },
  "language_info": {
   "codemirror_mode": {
    "name": "ipython",
    "version": 3
   },
   "file_extension": ".py",
   "mimetype": "text/x-python",
   "name": "python",
   "nbconvert_exporter": "python",
   "pygments_lexer": "ipython3",
   "version": "3.8.8"
  }
 },
 "nbformat": 4,
 "nbformat_minor": 5
}
