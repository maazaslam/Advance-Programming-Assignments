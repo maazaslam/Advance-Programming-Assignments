{
 "cells": [
  {
   "cell_type": "markdown",
   "id": "ef1364f8",
   "metadata": {},
   "source": [
    "# Python Advance Programming Assignment 15"
   ]
  },
  {
   "cell_type": "code",
   "execution_count": 26,
   "id": "29557e51",
   "metadata": {},
   "outputs": [
    {
     "name": "stdout",
     "output_type": "stream",
     "text": [
      "True\n",
      "True\n",
      "False\n",
      "False\n"
     ]
    }
   ],
   "source": [
    "'''Q1. Write a function that returns True if a given name can generate an array of words.\n",
    "\n",
    "Examples\n",
    "\n",
    "anagram(\"Justin Bieber\", [\"injures\", \"ebb\", \"it\"]) ➞ True\n",
    "\n",
    "anagram(\"Natalie Portman\", [\"ornamental\", \"pita\"]) ➞ True\n",
    "\n",
    "anagram(\"Chris Pratt\", [\"chirps\", \"rat\"]) ➞ False\n",
    "# Not all letters are used\n",
    "\n",
    "anagram(\"Jeff Goldblum\", [\"jog\", \"meld\", \"bluffs\"]) ➞ False\n",
    "# \"s\" does not exist in the original name'''\n",
    "\n",
    "def anagram(string, lst):\n",
    "    string = string.lower()\n",
    "    dic1 = {}\n",
    "    dic2 = {}\n",
    "    \n",
    "    for i in string:\n",
    "        if i == \" \":\n",
    "            continue\n",
    "        else:\n",
    "            dic1[i] = dic1.get(i,0) + 1\n",
    "    for j in lst:\n",
    "        for k in j:\n",
    "            dic2[k] = dic2.get(k, 0) + 1\n",
    "    \n",
    "    if (dic1) == (dic2):\n",
    "        print(True)\n",
    "    else:\n",
    "        print(False)\n",
    "    \n",
    "anagram(\"Justin Bieber\", [\"injures\", \"ebb\", \"it\"])\n",
    "anagram(\"Natalie Portman\", [\"ornamental\", \"pita\"])\n",
    "anagram(\"Chris Pratt\", [\"chirps\", \"rat\"])\n",
    "anagram(\"Jeff Goldblum\", [\"jog\", \"meld\", \"bluffs\"])"
   ]
  },
  {
   "cell_type": "code",
   "execution_count": 26,
   "id": "8925d16f",
   "metadata": {},
   "outputs": [
    {
     "name": "stdout",
     "output_type": "stream",
     "text": [
      "{'name': 'c', 'score': 115, 'reputation': 30}\n",
      "{'name': 'b', 'score': 90, 'reputation': 40}\n",
      "{'name': 'a', 'score': 100, 'reputation': 20}\n"
     ]
    }
   ],
   "source": [
    "'''Q2. Given an array of users, each defined by an object with the following properties: name, score, reputation create a function that sorts the array to form the correct leaderboard.\n",
    "\n",
    "The leaderboard takes into consideration the score of each user of course, but an emphasis is put on their reputation in the community, so to get the trueScore, you should add the reputation multiplied by 2 to the score.\n",
    "\n",
    "Once you know the trueScore of each user, sort the array according to it in descending order.\n",
    "\n",
    "Examples\n",
    "\n",
    "leaderboards([\n",
    "  { \"name\": \"a\", \"score\": 100, \"reputation\": 20 },\n",
    "  { \"name\": \"b\", \"score\": 90, \"reputation\": 40 },\n",
    "  { \"name\": \"c\", \"score\": 115, \"reputation\": 30 },\n",
    "]) ➞ [\n",
    "  { \"name\": \"c\", \"score\": 115, \"reputation\": 30 },  # trueScore = 175\n",
    "  { \"name\": \"b\", \"score\": 90, \"reputation\": 40 },   # trueScore = 170\n",
    "  { \"name\": \"a\", \"score\": 100, \"reputation\": 20 }   # trueScore = 140\n",
    "]'''\n",
    "\n",
    "def leaderboards(l):\n",
    "    for i in l:\n",
    "        i[\"true_score\"] = i[\"reputation\"] *2\n",
    "        i[\"total\"] = i['score'] + i['true_score']\n",
    "    a = max(l[0]['true_score'], l[1]['true_score'],l[2]['true_score'])\n",
    "    \n",
    "    res = []\n",
    "    for i in range(len(l)):\n",
    "        if l[i]['true_score'] <= a:\n",
    "            res.insert(0,(l[i]))\n",
    "    \n",
    "    for i in res:\n",
    "        del i['true_score']\n",
    "        del i['total']\n",
    "        print(i)\n",
    "    \n",
    "    \n",
    "leaderboards([\n",
    "  { \"name\": \"a\", \"score\": 100, \"reputation\": 20 },\n",
    "  { \"name\": \"b\", \"score\": 90, \"reputation\": 40 },\n",
    "  { \"name\": \"c\", \"score\": 115, \"reputation\": 30 },\n",
    "]) "
   ]
  },
  {
   "cell_type": "code",
   "execution_count": 74,
   "id": "256c9d5d",
   "metadata": {},
   "outputs": [
    {
     "name": "stdout",
     "output_type": "stream",
     "text": [
      "-e---o--e-\n",
      "tree\n",
      "p----n r----\n",
      "-e'- a -e-y -a----y --y!\n"
     ]
    }
   ],
   "source": [
    "'''Q3. Create a function that, given a phrase and a number of letters guessed, returns a string with hyphens - for every letter of the phrase not guessed, and each letter guessed in place.\n",
    "\n",
    "Examples\n",
    "\n",
    "hangman(\"helicopter\", [\"o\", \"e\", \"s\"]) ➞ \"-e---o--e-\"\n",
    "\n",
    "hangman(\"tree\", [\"r\", \"t\", \"e\"]) ➞ \"tree\"\n",
    "\n",
    "hangman(\"Python rules\", [\"a\", \"n\", \"p\", \"r\", \"z\"]) ➞ \"P----n r----\"\n",
    "\n",
    "hangman(\"He\"s a very naughty boy!\", [\"e\", \"a\", \"y\"]) ➞ \"-e\"- a -e-y -a----y –y!\"'''\n",
    "\n",
    "def hangman(string, lst):\n",
    "    res = \"\"\n",
    "    for i in string.lower():\n",
    "        if i == \" \":\n",
    "            res = res + \" \"\n",
    "        elif i == \"!\":\n",
    "            res = res + \"!\"\n",
    "        elif i == \"'\":\n",
    "            res = res + \"'\"\n",
    "        elif i in lst:\n",
    "            res = res + i\n",
    "        else:\n",
    "            res = res + \"-\"\n",
    "            \n",
    "    print(res)\n",
    "\n",
    "hangman(\"helicopter\", [\"o\", \"e\", \"s\"])\n",
    "hangman(\"tree\", [\"r\", \"t\", \"e\"])\n",
    "hangman(\"Python rules\", [\"a\", \"n\", \"p\", \"r\", \"z\"])\n",
    "hangman(\"He's a very naughty boy!\", [\"e\", \"a\", \"y\"])"
   ]
  },
  {
   "cell_type": "code",
   "execution_count": 14,
   "id": "0531d744",
   "metadata": {},
   "outputs": [
    {
     "name": "stdout",
     "output_type": "stream",
     "text": [
      "16\n",
      "32\n",
      "256\n"
     ]
    }
   ],
   "source": [
    "'''Q4. The Collatz sequence is as follows:\n",
    "\n",
    "  - Start with some given integer n.\n",
    "  - If it is even, the next number will be n divided by 2.\n",
    "  - If it is odd, multiply it by 3 and add 1 to make the next number.\n",
    "  - The sequence stops when it reaches 1.\n",
    "\n",
    "According to the Collatz conjecture, it will always reach 1. If that's true, you can construct a finite sequence following the aforementioned method for any given integer.\n",
    "\n",
    "Write a function that takes in an integer n and returns the highest integer in the corresponding Collatz sequence.\n",
    "\n",
    "Examples\n",
    "\n",
    "max_collatz(10) ➞ 16\n",
    "# Collatz sequence: 10, 5, 16, 8, 4, 2, 1\n",
    "\n",
    "max_collatz(32) ➞ 32\n",
    "# Collatz sequence: 32, 16, 8, 4, 2, 1\n",
    "\n",
    "max_collatz(85) ➞ 256\n",
    "# Collatz sequence: 85, 256, 128, 64, 32, 16, 8, 4, 2, 1'''\n",
    "\n",
    "def max_collatz(number):\n",
    "    l = [number]\n",
    "    while number != 1:\n",
    "\n",
    "        if number % 2==0:\n",
    "            number = (number//2)\n",
    "            l.append(number)\n",
    "\n",
    "        elif number % 2==1:\n",
    "            number = (3*number+1) \n",
    "            l.append(number)\n",
    "\n",
    "        continue\n",
    "    return print(max(l))\n",
    "\n",
    "max_collatz(10)\n",
    "max_collatz(32)\n",
    "max_collatz(85)"
   ]
  },
  {
   "cell_type": "code",
   "execution_count": 24,
   "id": "8ab7f974",
   "metadata": {},
   "outputs": [
    {
     "name": "stdout",
     "output_type": "stream",
     "text": [
      "[101, 23, 77, 7, 5]\n",
      "[444, 563, 789, 2, 9, 5, 1]\n",
      "[53219, 3772, 564, 32, 1]\n"
     ]
    }
   ],
   "source": [
    "'''Q5. Write a function that sorts a list of integers by their digit length in descending order, then settles ties by sorting numbers with the same digit length in ascending order.\n",
    "\n",
    "Examples\n",
    "\n",
    "digit_sort([77, 23, 5, 7, 101])\n",
    "➞ [101, 23, 77, 5, 7]\n",
    "\n",
    "digit_sort([1, 5, 9, 2, 789, 563, 444])\n",
    "➞ [444, 563, 789, 1, 2, 5, 9]\n",
    "\n",
    "digit_sort([53219, 3772, 564, 32, 1])\n",
    "➞ [53219, 3772, 564, 32, 1]'''\n",
    "\n",
    "def digit_sort(l):\n",
    "    l.sort(key=lambda x:len(str(x)))\n",
    "    l= l[::-1]\n",
    "    print(l)\n",
    "digit_sort([77, 23, 5, 7, 101])\n",
    "digit_sort([1, 5, 9, 2, 789, 563, 444])\n",
    "digit_sort([53219, 3772, 564, 32, 1])"
   ]
  }
 ],
 "metadata": {
  "kernelspec": {
   "display_name": "Python 3",
   "language": "python",
   "name": "python3"
  },
  "language_info": {
   "codemirror_mode": {
    "name": "ipython",
    "version": 3
   },
   "file_extension": ".py",
   "mimetype": "text/x-python",
   "name": "python",
   "nbconvert_exporter": "python",
   "pygments_lexer": "ipython3",
   "version": "3.8.8"
  }
 },
 "nbformat": 4,
 "nbformat_minor": 5
}
