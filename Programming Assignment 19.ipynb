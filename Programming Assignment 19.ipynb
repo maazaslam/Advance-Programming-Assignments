{
 "cells": [
  {
   "cell_type": "markdown",
   "id": "42f27760",
   "metadata": {},
   "source": [
    "# Python Advance Programming Assignment 19"
   ]
  },
  {
   "cell_type": "code",
   "execution_count": 59,
   "id": "7d7cbbe6",
   "metadata": {},
   "outputs": [
    {
     "name": "stdout",
     "output_type": "stream",
     "text": [
      "[[7 6]\n",
      " [6 7]]\n",
      "\n",
      "[['A' 'B' 'A']\n",
      " ['B' 'A' 'B']\n",
      " ['A' 'B' 'A']]\n",
      "\n",
      "[['c' 'd' 'c' 'd']\n",
      " ['d' 'c' 'd' 'c']\n",
      " ['c' 'd' 'c' 'd']\n",
      " ['d' 'c' 'd' 'c']]\n",
      "\n",
      "invalid\n"
     ]
    }
   ],
   "source": [
    "'''Q1. Create a checker board generator, which takes as inputs n and 2 elements to generate an n x n checkerboard with those two elements as alternating squares.\n",
    "\n",
    "Examples\n",
    "\n",
    "checker_board(2, 7, 6) ➞ [\n",
    "  [7, 6],\n",
    "  [6, 7]\n",
    "]\n",
    "\n",
    "checker_board(3, \"A\", \"B\") ➞ [\n",
    "  [\"A\", \"B\", \"A\"],\n",
    "  [\"B\", \"A\", \"B\"],\n",
    "  [\"A\", \"B\", \"A\"]\n",
    "]\n",
    "\n",
    "checker_board(4, \"c\", \"d\") ➞ [\n",
    "  [\"c\", \"d\", \"c\", \"d\"],\n",
    "  [\"d\", \"c\", \"d\", \"c\"],\n",
    "  [\"c\", \"d\", \"c\", \"d\"],\n",
    "  [\"d\", \"c\", \"d\", \"c\"]\n",
    "]\n",
    "\n",
    "checker_board(4, \"c\", \"c\") ➞ \"invalid\"'''\n",
    "\n",
    "import numpy as np\n",
    "def checker_board(size, ele1, ele2):\n",
    "    if ele1 == ele2:\n",
    "        return print(\"invalid\")\n",
    "    else:\n",
    "        x = np.zeros((size, size), dtype = type(ele1))\n",
    "        for i in range(len(x)):\n",
    "            if i%2==0:\n",
    "                for j in range(len(x)):\n",
    "                    if j%2 ==0:\n",
    "                        x[i][j] = ele1\n",
    "                    else:\n",
    "                        x[i][j] = ele2\n",
    "            else:\n",
    "                for j in range(len(x)):\n",
    "                    if j%2 ==0:\n",
    "                        x[i][j] = ele2\n",
    "                    else:\n",
    "                        x[i][j] = ele1\n",
    "    print(x)\n",
    "    return print()\n",
    "    \n",
    "    \n",
    "checker_board(2, 7, 6)\n",
    "checker_board(3, \"A\", \"B\")\n",
    "checker_board(4, \"c\", \"d\")\n",
    "checker_board(4, \"c\", \"c\")\n"
   ]
  },
  {
   "cell_type": "code",
   "execution_count": 68,
   "id": "98251fe5",
   "metadata": {},
   "outputs": [
    {
     "name": "stdout",
     "output_type": "stream",
     "text": [
      "True\n",
      "True\n",
      "False\n",
      "False\n"
     ]
    }
   ],
   "source": [
    "'''Q2. A string is an almost-palindrome if, by changing only one character, you can make it a palindrome. Create a function that returns True if a string is an almost-palindrome and False otherwise.\n",
    "\n",
    "Examples\n",
    "\n",
    "almost_palindrome(\"abcdcbg\") ➞ True\n",
    "# Transformed to \"abcdcba\" by changing \"g\" to \"a\".\n",
    "\n",
    "almost_palindrome(\"abccia\") ➞ True\n",
    "# Transformed to \"abccba\" by changing \"i\" to \"b\".\n",
    "\n",
    "almost_palindrome(\"abcdaaa\") ➞ False\n",
    "# Can't be transformed to a palindrome in exactly 1 turn.\n",
    "\n",
    "almost_palindrome(\"1234312\") ➞ False'''\n",
    "\n",
    "def almost_palindrome(string):\n",
    "    error = 0\n",
    "    for i in range(int(len(string)/2)+1):\n",
    "        if error <= 1:\n",
    "            if string[i] != string[-1-i]:\n",
    "                error +=1\n",
    "        else:\n",
    "            return print(False)\n",
    "    return print(True)\n",
    "\n",
    "almost_palindrome(\"abcdcbg\")\n",
    "almost_palindrome(\"abccia\")\n",
    "almost_palindrome(\"abcdaaa\")\n",
    "almost_palindrome(\"1234312\")            "
   ]
  },
  {
   "cell_type": "code",
   "execution_count": 70,
   "id": "db696fd7",
   "metadata": {},
   "outputs": [
    {
     "name": "stdout",
     "output_type": "stream",
     "text": [
      "4\n",
      "8\n",
      "10\n"
     ]
    }
   ],
   "source": [
    "'''Q3. Create a function that finds how many prime numbers there are, up to the given integer.\n",
    "\n",
    "Examples\n",
    "\n",
    "prime_numbers(10) ➞ 4\n",
    "# 2, 3, 5 and 7\n",
    "\n",
    "prime_numbers(20) ➞ 8\n",
    "# 2, 3, 5, 7, 11, 13, 17 and 19\n",
    "\n",
    "prime_numbers(30) ➞ 10\n",
    "# 2, 3, 5, 7, 11, 13, 17, 19, 23 and 29'''\n",
    "\n",
    "def prime_numbers(number):\n",
    "    count = 0\n",
    "    for num in range(number + 1):\n",
    "        if num > 1:\n",
    "            for i in range(2, num):\n",
    "                if (num % i) == 0:\n",
    "                    break\n",
    "            else:\n",
    "                count+=1\n",
    "    \n",
    "    return print(count)\n",
    "\n",
    "prime_numbers(10)\n",
    "prime_numbers(20)\n",
    "prime_numbers(30)"
   ]
  },
  {
   "cell_type": "code",
   "execution_count": 91,
   "id": "25a502b4",
   "metadata": {},
   "outputs": [
    {
     "name": "stdout",
     "output_type": "stream",
     "text": [
      "['Monday', 'Friday']\n",
      "['Monday', 'Monday', 'Monday']\n",
      "['Tuesday', 'Wednesday', 'Saturday']\n"
     ]
    }
   ],
   "source": [
    "'''Q4. If today was Monday, in two days, it would be Wednesday.\n",
    "\n",
    "Create a function that takes in a list of days as input and the number of days to increment by. Return a list of days after n number of days has passed.\n",
    "\n",
    "Examples\n",
    "\n",
    "after_n_days([\"Thursday\", \"Monday\"], 4) ➞ [\"Monday\", \"Friday\"]\n",
    "\n",
    "after_n_days([\"Sunday\", \"Sunday\", \"Sunday\"], 1) ➞ [\"Monday\", \"Monday\", \"Monday\"]\n",
    "\n",
    "after_n_days([\"Monday\", \"Tuesday\", \"Friday\"], 1) ➞ [\"Tuesday\", \"Wednesday\", \"Saturday\"]'''\n",
    "\n",
    "def after_n_days(lst, n):\n",
    "    days = ['Sunday', 'Monday', 'Tuesday', 'Wednesday', 'Thursday', 'Friday', 'Saturday']\n",
    "    index = days.index(lst[0])\n",
    "    index2 = days.index(lst[1])\n",
    "    if len(lst) <3:\n",
    "        for i in range(n):\n",
    "            if index == len(days)-1:\n",
    "                index = 0\n",
    "            else:\n",
    "                index +=1\n",
    "        for i in range(n):\n",
    "            if index2 == len(days)-1:\n",
    "                index2 = 0\n",
    "            else:\n",
    "                index2 +=1\n",
    "        return print([days[index], days[index2]])\n",
    "    else:\n",
    "        index3 = days.index(lst[2])\n",
    "        for i in range(n):\n",
    "            if index == len(days)-1:\n",
    "                index = 0\n",
    "            else:\n",
    "                index +=1\n",
    "        for i in range(n):\n",
    "            if index2 == len(days)-1:\n",
    "                index2 = 0\n",
    "            else:\n",
    "                index2 +=1\n",
    "        for i in range(n):\n",
    "            if index3 == len(days)-1:\n",
    "                index3 = 0\n",
    "            else:\n",
    "                index3 +=1\n",
    "        return print([days[index], days[index2], days[index3]])\n",
    "\n",
    "after_n_days([\"Thursday\", \"Monday\"], 4)\n",
    "after_n_days([\"Sunday\", \"Sunday\", \"Sunday\"], 1)\n",
    "after_n_days([\"Monday\", \"Tuesday\", \"Friday\"], 1)"
   ]
  },
  {
   "cell_type": "code",
   "execution_count": 33,
   "id": "aaffefbf",
   "metadata": {},
   "outputs": [
    {
     "name": "stdout",
     "output_type": "stream",
     "text": [
      "True\n",
      "True\n",
      "False\n"
     ]
    }
   ],
   "source": [
    "'''Q5. You are in the process of creating a chat application and want to add an anonymous name feature. This anonymous name feature will create an alias that consists of two capitalized words beginning with the same letter as the users first name.\n",
    "\n",
    "Create a function that determines if the list of users is mapped to a list of anonymous names correctly.\n",
    "\n",
    "Examples\n",
    "\n",
    "is_correct_aliases([\"Adrian M.\", \"Harriet S.\", \"Mandy T.\"], [\"Amazing Artichoke\", \"Hopeful Hedgehog\", \"Marvelous Mouse\"]) ➞ True\n",
    "\n",
    "is_correct_aliases([\"Rachel F.\", \"Pam G.\", \"Fred Z.\", \"Nancy K.\"], [\"Reassuring Rat\", \"Peaceful Panda\", \"Fantastic Frog\", \"Notable Nickel\"]) ➞ True\n",
    "\n",
    "is_correct_aliases([\"Beth T.\"], [\"Brandishing Mimosa\"]) ➞ False\n",
    "# Both words in \"Brandishing Mimosa\" should begin with a \"B\" - \"Brandishing Beaver\" would do the trick.'''\n",
    "\n",
    "def is_correct_aliases(lst1, lst2):\n",
    "    lst1 = [i.split(\", \") for i in lst1]\n",
    "    lst2 = [i.split(\", \") for i in lst2]\n",
    "    lst2 = [j.split(\" \") for i in lst2 for j in i]\n",
    "    for i in range(1,len(lst1)+1):\n",
    "        if lst1[i-1][0][0] == lst2[i-1][0][0] and lst1[i-1][0][0] == lst2[i-1][1][0]:\n",
    "            continue\n",
    "        else:\n",
    "            return print(False)\n",
    "    else:\n",
    "        return print(True)\n",
    "    \n",
    "   \n",
    "        \n",
    "is_correct_aliases([\"Adrian M.\", \"Harriet S.\", \"Mandy T.\"], [\"Amazing Artichoke\", \"Hopeful Hedgehog\", \"Marvelous Mouse\"])\n",
    "is_correct_aliases([\"Rachel F.\", \"Pam G.\", \"Fred Z.\", \"Nancy K.\"], [\"Reassuring Rat\", \"Peaceful Panda\", \"Fantastic Frog\", \"Notable Nickel\"])\n",
    "is_correct_aliases([\"Beth T.\"], [\"Brandishing Mimosa\"])"
   ]
  }
 ],
 "metadata": {
  "kernelspec": {
   "display_name": "Python 3",
   "language": "python",
   "name": "python3"
  },
  "language_info": {
   "codemirror_mode": {
    "name": "ipython",
    "version": 3
   },
   "file_extension": ".py",
   "mimetype": "text/x-python",
   "name": "python",
   "nbconvert_exporter": "python",
   "pygments_lexer": "ipython3",
   "version": "3.8.8"
  }
 },
 "nbformat": 4,
 "nbformat_minor": 5
}
