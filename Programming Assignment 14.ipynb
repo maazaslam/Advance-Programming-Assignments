{
 "cells": [
  {
   "cell_type": "markdown",
   "id": "be223eab",
   "metadata": {},
   "source": [
    "# Python Advance Programming Assignment 14"
   ]
  },
  {
   "cell_type": "code",
   "execution_count": 17,
   "id": "4d51abe9",
   "metadata": {},
   "outputs": [
    {
     "name": "stdout",
     "output_type": "stream",
     "text": [
      "[3.0, 3.0, 3.0]\n",
      "[12.0, 7.5, 14.5]\n",
      "[27.0, 75.0]\n"
     ]
    }
   ],
   "source": [
    "'''Q1. Given a list of numbers, create a function that removes 25% from every number in the list except the smallest number, and adds the total amount removed to the smallest number.\n",
    "\n",
    "Examples\n",
    "\n",
    "show_the_love([4, 1, 4]) ➞ [3, 3, 3]\n",
    "\n",
    "show_the_love([16, 10, 8]) ➞ [12, 7.5, 14.5]\n",
    "\n",
    "show_the_love([2, 100]) ➞ [27, 75]'''\n",
    "\n",
    "def show_the_love(lst):\n",
    "    small = min(lst)\n",
    "    res = []\n",
    "    add_to_small = small\n",
    "    for i in lst:\n",
    "        if i == small:\n",
    "            res.append(0)\n",
    "        else:\n",
    "            res.append((.75* i))\n",
    "            add_to_small = add_to_small + (.25 * i)\n",
    "    for i in res:\n",
    "        if i == 0:\n",
    "            x = res.index(i)\n",
    "            res[x] = (add_to_small)\n",
    "    print(res)\n",
    "        \n",
    "show_the_love([4, 1, 4])\n",
    "show_the_love([16, 10, 8])\n",
    "show_the_love([2, 100])"
   ]
  },
  {
   "cell_type": "code",
   "execution_count": 36,
   "id": "3d4bbca5",
   "metadata": {},
   "outputs": [
    {
     "name": "stdout",
     "output_type": "stream",
     "text": [
      "['aps', 'hr', 'o']\n",
      "['bdor', 'a', 'e']\n",
      "['enp', 'ahis', 'lov']\n",
      "['flu', 'ekr', 'y']\n"
     ]
    }
   ],
   "source": [
    "'''Q2. Create a function that takes in two words as input and returns a list of three elements, in the following order:\n",
    "\n",
    "   1.Shared letters between two words.\n",
    "   2.Letters unique to word 1.\n",
    "   3.Letters unique to word 2.\n",
    "\n",
    "Each element should have unique letters, and have each letter be alphabetically sorted.\n",
    "\n",
    "Examples\n",
    "\n",
    "letters(\"sharp\", \"soap\") ➞ [\"aps\", \"hr\", \"o\"]\n",
    "\n",
    "letters(\"board\", \"bored\") ➞ [\"bdor\", \"a\", \"e\"]\n",
    "\n",
    "letters(\"happiness\", \"envelope\") ➞ [\"enp\", \"ahis\", \"lov\"]\n",
    "\n",
    "letters(\"kerfuffle\", \"fluffy\") ➞ [\"flu\", \"ekr\", \"y\"]\n",
    "# Even with multiple matching letters (e.g. 3 f's), there should \n",
    "# only exist a single \"f\" in your first element.\n",
    "\n",
    "letters(\"match\", \"ham\") ➞ [\"ahm\", \"ct\", \"\"]\n",
    "# \"ham\" does not contain any letters that are not found already \n",
    "# in \"match\".'''\n",
    "\n",
    "def letters(string1, string2):\n",
    "    shared_letters = \"\"\n",
    "    unique_letters_string1 = \"\"\n",
    "    unique_letters_string2 = \"\"\n",
    "    res = []\n",
    "    string1, string2 = sorted(string1), sorted(string2)\n",
    "    \n",
    "    for i in string1:\n",
    "        if i in string2 and i not in shared_letters:\n",
    "            shared_letters = shared_letters + i\n",
    "    for i in string2:\n",
    "        if i not in string1 and i not in unique_letters_string2:\n",
    "            unique_letters_string2 = unique_letters_string2 + i\n",
    "    for i in string1:\n",
    "        if i not in string2 and i not in unique_letters_string1:\n",
    "            unique_letters_string1= unique_letters_string1 + i\n",
    "            \n",
    "    res.append(shared_letters)\n",
    "    res.append(unique_letters_string1)\n",
    "    res.append(unique_letters_string2)\n",
    "    print(res)\n",
    "letters(\"sharp\", \"soap\")\n",
    "letters(\"board\", \"bored\")\n",
    "letters(\"happiness\", \"envelope\")\n",
    "letters(\"kerfuffle\", \"fluffy\")  "
   ]
  },
  {
   "cell_type": "code",
   "execution_count": 53,
   "id": "adb559dd",
   "metadata": {},
   "outputs": [
    {
     "name": "stdout",
     "output_type": "stream",
     "text": [
      "[[1, 7], [2, 6], [3, 5], [4, 4]]\n",
      "[[1, 6], [2, 5], [3, 4]]\n",
      "[[5, 2], [9, 1], [8, 8]]\n",
      "[]\n"
     ]
    }
   ],
   "source": [
    "'''Q3. Write a function that pairs the first number in an array with the last, the second number with the second to last, etc.\n",
    "\n",
    "Examples\n",
    "\n",
    "pairs([1, 2, 3, 4, 5, 6, 7]) ➞ [[1, 7], [2, 6], [3, 5], [4, 4]]\n",
    "\n",
    "pairs([1, 2, 3, 4, 5, 6]) ➞ [[1, 6], [2, 5], [3, 4]]\n",
    "\n",
    "pairs([5, 9, 8, 1, 2]) ➞ [[5, 2], [9, 1], [8, 8]]\n",
    "\n",
    "pairs([]) ➞ []'''\n",
    "\n",
    "def pairs(lst):\n",
    "    pair = []\n",
    "    x = int(len(lst)/2)\n",
    "    if len(lst)%2 == 0:\n",
    "        for i in range(x):\n",
    "            pair.append([lst[i],lst[len(lst)-1-i]])\n",
    "    else:\n",
    "        for i in range(x):\n",
    "            pair.append([lst[i],lst[len(lst)-1-i]])\n",
    "        pair.append([lst[x], lst[x]])\n",
    "    print(pair)\n",
    "\n",
    "    \n",
    "pairs([1, 2, 3, 4, 5, 6, 7])\n",
    "pairs([1, 2, 3, 4, 5, 6])\n",
    "pairs([5, 9, 8, 1, 2])\n",
    "pairs([])"
   ]
  },
  {
   "cell_type": "code",
   "execution_count": 81,
   "id": "5a6068c5",
   "metadata": {},
   "outputs": [
    {
     "name": "stdout",
     "output_type": "stream",
     "text": [
      "9\n",
      "-1\n",
      "1\n",
      "1874682736267235927391936562808774986\n"
     ]
    }
   ],
   "source": [
    "'''Q4. Write a function that adds two numbers. The catch, however, is that the numbers will be strings.\n",
    "\n",
    "Examples\n",
    "\n",
    "add_str_nums(\"4\", \"5\") ➞ \"9\"\n",
    "\n",
    "add_str_nums(\"abcdefg\", \"3\") ➞ \"-1\"\n",
    "\n",
    "add_str_nums(\"1\", \"\") ➞ \"1\"\n",
    "\n",
    "add_str_nums(\"1874682736267235927359283579235789257\", \"32652983572985729\") ➞ \"1874682736267235927391936562808774986\"'''\n",
    "\n",
    "def add_str_nums(string1, string2):\n",
    "    sum = 0\n",
    "    num1 = ''\n",
    "    num2 = ''\n",
    "    if string1.isalnum() or string2.isalnum():\n",
    "        try:\n",
    "            for i in string1:\n",
    "                if i.isnumeric():\n",
    "                    num1 = num1 + i\n",
    "            for i in string2:\n",
    "                if i.isnumeric():\n",
    "                    num2 = num2 + i\n",
    "            if string1 == \"\":\n",
    "                num1 = \"0\"\n",
    "            elif string2 == \"\":\n",
    "                num2 = \"0\"\n",
    "            print(int(num1)+int(num2))\n",
    "        except:\n",
    "            print(-1)\n",
    "        \n",
    "    \n",
    "\n",
    "add_str_nums(\"4\", \"5\")\n",
    "add_str_nums(\"abcdefg\", \"3\")\n",
    "add_str_nums(\"1\", \"\")\n",
    "add_str_nums(\"1874682736267235927359283579235789257\",\"32652983572985729\")"
   ]
  },
  {
   "cell_type": "code",
   "execution_count": 97,
   "id": "60b7f4bc",
   "metadata": {},
   "outputs": [
    {
     "name": "stdout",
     "output_type": "stream",
     "text": [
      "214365\n",
      "This is a mixed up string.\n",
      "abcde\n"
     ]
    }
   ],
   "source": [
    "'''Q5. lPaeesh le pemu mnxit ehess rtnisg! Oh, sorry, that was supposed to say: Please help me unmix these strings!\n",
    "\n",
    "Somehow my strings have all become mixed up; every pair of characters has been swapped. Help me undo this so I can understand my strings again.\n",
    "\n",
    "Examples\n",
    "\n",
    "unmix(\"123456\") ➞ \"214365\"\n",
    "\n",
    "unmix(\"hTsii  s aimex dpus rtni.g\") ➞ \"This is a mixed up string.\"\n",
    "\n",
    "unmix(\"badce\") ➞ \"abcde\"'''\n",
    "\n",
    "def unmix(string):\n",
    "    res = \"\"\n",
    "    for i in range(0,len(string)-1,2):\n",
    "        res = res + (string[i+1]+string[i])\n",
    "        \n",
    "    if len(string)%2!=0:\n",
    "        res = res + string[len(string)-1]\n",
    "    print(res)\n",
    "\n",
    "unmix(\"123456\")\n",
    "unmix(\"hTsii  s aimex dpus rtni.g\")\n",
    "unmix(\"badce\")"
   ]
  }
 ],
 "metadata": {
  "kernelspec": {
   "display_name": "Python 3",
   "language": "python",
   "name": "python3"
  },
  "language_info": {
   "codemirror_mode": {
    "name": "ipython",
    "version": 3
   },
   "file_extension": ".py",
   "mimetype": "text/x-python",
   "name": "python",
   "nbconvert_exporter": "python",
   "pygments_lexer": "ipython3",
   "version": "3.8.8"
  }
 },
 "nbformat": 4,
 "nbformat_minor": 5
}
