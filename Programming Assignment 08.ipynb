{
 "cells": [
  {
   "cell_type": "markdown",
   "id": "da04b293",
   "metadata": {},
   "source": [
    "# Python Advance Programming Assignment 08"
   ]
  },
  {
   "cell_type": "code",
   "execution_count": 24,
   "id": "751ebc80",
   "metadata": {},
   "outputs": [
    {
     "name": "stdout",
     "output_type": "stream",
     "text": [
      "True\n",
      "True\n",
      "False\n",
      "False\n"
     ]
    }
   ],
   "source": [
    "'''Q1. Given a sentence as txt, return True if any two adjacent words have this property: One word ends with a vowel, while the word immediately after begins with a vowel (a e i o u).\n",
    "\n",
    "Examples\n",
    "\n",
    "vowel_links(\"a very large appliance\") ➞ True\n",
    "\n",
    "vowel_links(\"go to edabit\") ➞ True\n",
    "\n",
    "vowel_links(\"an open fire\") ➞ False\n",
    "\n",
    "vowel_links(\"a sudden applause\") ➞ False'''\n",
    "\n",
    "def vowel_links(string):\n",
    "    l = string.split(\" \")\n",
    "    vowels = ['a','e','o','i','u']\n",
    "    a = 0\n",
    "    b = 1\n",
    "    while b<len(l):\n",
    "        if (l[a][-1] in vowels) and (l[b][0] in vowels):\n",
    "            return True\n",
    "        a = a + 1\n",
    "        b = b + 1\n",
    "    return False\n",
    "        \n",
    "print(vowel_links(\"a very large appliance\"))\n",
    "print(vowel_links(\"go to edabit\"))\n",
    "print(vowel_links(\"an open fire\"))\n",
    "print(vowel_links(\"a sudden applause\"))            "
   ]
  },
  {
   "cell_type": "code",
   "execution_count": 69,
   "id": "c5f4255c",
   "metadata": {},
   "outputs": [
    {
     "name": "stdout",
     "output_type": "stream",
     "text": [
      "True\n",
      "True\n",
      "False\n",
      "False\n"
     ]
    }
   ],
   "source": [
    "'''Q2. You are given three inputs: a string, one letter, and a second letter.\n",
    "\n",
    "Write a function that returns True if every instance of the first letter occurs before every instance of the second letter.\n",
    "\n",
    "Examples\n",
    "\n",
    "first_before_second(\"a rabbit jumps joyfully\", \"a\", \"j\") ➞ True\n",
    "# Every instance of \"a\" occurs before every instance of \"j\".\n",
    "\n",
    "first_before_second(\"knaves knew about waterfalls\", \"k\", \"w\") ➞  True\n",
    "\n",
    "first_before_second(\"happy birthday\", \"a\", \"y\") ➞ False\n",
    "# The \"a\" in \"birthday\" occurs after the \"y\" in \"happy\".\n",
    "\n",
    "first_before_second(\"precarious kangaroos\", \"k\", \"a\") ➞ False'''\n",
    "\n",
    "def first_before_second(str1, ltr1, ltr2):\n",
    "    l = str1.split(\" \")\n",
    "    check = []\n",
    "    for i in l:\n",
    "        if ltr2 in i or ltr1 in i:\n",
    "            for j in i:\n",
    "                if j == ltr2:\n",
    "                    check.append(j)\n",
    "                elif j == ltr1:\n",
    "                    check.append(j)\n",
    "    res = \"\".join(check)\n",
    "    \n",
    "    if (ltr2+ltr1) in res:\n",
    "        print(False)\n",
    "    else:\n",
    "        print(True)\n",
    "\n",
    "first_before_second(\"a rabbit jumps joyfully\", \"a\", \"j\")\n",
    "first_before_second(\"knaves knew about waterfalls\", \"k\", \"w\")\n",
    "first_before_second(\"happy birthday\", \"a\", \"y\")\n",
    "first_before_second(\"precarious kangaroos\", \"k\", \"a\")\n",
    "                "
   ]
  },
  {
   "cell_type": "code",
   "execution_count": 71,
   "id": "c4cc8501",
   "metadata": {},
   "outputs": [
    {
     "name": "stdout",
     "output_type": "stream",
     "text": [
      "[4, 8]\n",
      "\"EAI\"\n",
      "['A', 'B', 'T', 'A', 'I', 'Y']\n"
     ]
    }
   ],
   "source": [
    "'''Q3. Create a function that returns the characters from a list or string r on odd or even positions, depending on the specifier s. The specifier will be \"odd\" for items on odd positions (1, 3, 5, ...) and \"even\" for items on even positions (2, 4, 6, ...).\n",
    "\n",
    "Examples\n",
    "\n",
    "char_at_pos([2, 4, 6, 8, 10], \"even\") ➞ [4, 8]\n",
    "# 4 & 8 occupy the 2nd & 4th positions\n",
    "\n",
    "char_at_pos(\"EDABIT\", \"odd\") ➞ \"EAI\"\n",
    "# \"E\", \"A\" and \"I\" occupy the 1st, 3rd and 5th positions\n",
    "\n",
    "char_at_pos([\"A\", \"R\", \"B\", \"I\", \"T\", \"R\", \"A\", \"R\", \"I\", \"L\", \"Y\"], \"odd\") ➞ [\"A\", \"B\", \"T\", \"A\", \"I\", \"Y\"]'''\n",
    "\n",
    "def char_at_pos(data, string):\n",
    "    res = []\n",
    "    if string == \"odd\":\n",
    "        for i in range(len(data)):\n",
    "            if i%2 == 0:\n",
    "                res.append(data[i])\n",
    "    else:\n",
    "        for i  in range(len(data)):\n",
    "            if i%2 != 0:\n",
    "                res.append(data[i])\n",
    "    \n",
    "    if type(data) ==  type(res):\n",
    "        print(res)\n",
    "    elif type(data) == str:\n",
    "        print('\"',\"\".join(res),'\"', sep = \"\")\n",
    "    \n",
    "char_at_pos([2, 4, 6, 8, 10], \"even\")\n",
    "char_at_pos(\"EDABIT\", \"odd\")\n",
    "\n",
    "char_at_pos([\"A\", \"R\", \"B\", \"I\", \"T\", \"R\", \"A\", \"R\", \"I\", \"L\", \"Y\"], \"odd\")          "
   ]
  },
  {
   "cell_type": "code",
   "execution_count": 80,
   "id": "5c0dd8ff",
   "metadata": {},
   "outputs": [
    {
     "name": "stdout",
     "output_type": "stream",
     "text": [
      "10\n",
      "1\n",
      "64\n"
     ]
    }
   ],
   "source": [
    "'''Q4. Write a function that returns the greatest common divisor of all list elements. If the greatest common divisor is 1, return 1.\n",
    "\n",
    "Examples\n",
    "\n",
    "GCD([10, 20, 40]) ➞ 10\n",
    "\n",
    "GCD([1, 2, 3, 100]) ➞ 1\n",
    "\n",
    "GCD([1024, 192, 2048, 512]) ➞ 64'''\n",
    "\n",
    "def find(x , y):\n",
    "    while(y):\n",
    "        x,y = y, x%y\n",
    "    return x\n",
    "\n",
    "def GCD(lst):\n",
    "    num1 = lst[0]\n",
    "    num2 = lst[1]\n",
    "    \n",
    "    gcd = find(num1, num2)\n",
    "    \n",
    "    for i in range(2, len(lst)):\n",
    "        gcd = find(gcd, lst[i])\n",
    "    print(gcd)\n",
    "\n",
    "GCD([10, 20, 40])\n",
    "GCD([1, 2, 3, 100])\n",
    "GCD([1024, 192, 2048, 512])"
   ]
  },
  {
   "cell_type": "code",
   "execution_count": 96,
   "id": "d0f2ae69",
   "metadata": {},
   "outputs": [
    {
     "name": "stdout",
     "output_type": "stream",
     "text": [
      "Decimal Only\n",
      "Binary Only\n",
      "Decimal and Binary\n",
      "Neither!\n"
     ]
    }
   ],
   "source": [
    "'''Q5.A number/string is a palindrome if the digits/characters are the same when read both forward and backward. Examples include \"racecar\" and 12321. Given a positive number n, check if n or the binary representation of n is palindromic. Return the following:\n",
    "\n",
    "- \"Decimal only.\" if only n is a palindrome.\n",
    "- \"Binary only.\" if only the binary representation of n is a palindrome.\n",
    "- \"Decimal and binary.\" if both are palindromes.\n",
    "- \"Neither!\" if neither are palindromes.\n",
    "\n",
    "Examples\n",
    "\n",
    "palindrome_type(1306031) ➞ \"Decimal only.\"\n",
    "# decimal = 1306031\n",
    "# binary  = \"100111110110110101111\"\n",
    "\n",
    "palindrome_type(427787) ➞ \"Binary only.\"\n",
    "# decimal = 427787\n",
    "# binary  = \"1101000011100001011\"\n",
    "\n",
    "palindrome_type(313) ➞ \"Decimal and binary.\"\n",
    "# decimal = 313\n",
    "# binary  = 100111001\n",
    "\n",
    "palindrome_type(934) ➞ \"Neither!\"\n",
    "# decimal = 934\n",
    "# binary  = \"1110100110\"'''\n",
    "\n",
    "def bin_palindrome(x):\n",
    "    a = bin(x).lstrip(\"0b\")\n",
    "    if a == a[::-1]:\n",
    "        return True\n",
    "    \n",
    "def dec_palindrome(y):\n",
    "    b = str(y)\n",
    "    if b == b[::-1]:\n",
    "        return True\n",
    "\n",
    "def palindrome_type(number):\n",
    "    \n",
    "    res1 = bin_palindrome(number)\n",
    "    res2 = dec_palindrome(number)\n",
    "\n",
    "    if res1==True and res2==True:\n",
    "        print(\"Decimal and Binary\")\n",
    "    elif res1 == True:\n",
    "        print(\"Binary Only\")\n",
    "    elif res2 == True:\n",
    "        print(\"Decimal Only\")\n",
    "    else:\n",
    "        print(\"Neither!\")\n",
    "\n",
    "\n",
    "palindrome_type(1306031)\n",
    "palindrome_type(427787)\n",
    "palindrome_type(313)\n",
    "palindrome_type(934) \n",
    "\n"
   ]
  }
 ],
 "metadata": {
  "kernelspec": {
   "display_name": "Python 3",
   "language": "python",
   "name": "python3"
  },
  "language_info": {
   "codemirror_mode": {
    "name": "ipython",
    "version": 3
   },
   "file_extension": ".py",
   "mimetype": "text/x-python",
   "name": "python",
   "nbconvert_exporter": "python",
   "pygments_lexer": "ipython3",
   "version": "3.8.8"
  }
 },
 "nbformat": 4,
 "nbformat_minor": 5
}
