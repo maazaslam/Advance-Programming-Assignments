{
 "cells": [
  {
   "cell_type": "markdown",
   "id": "cc10afb8",
   "metadata": {},
   "source": [
    "# Python Advance Programming Assignment 07"
   ]
  },
  {
   "cell_type": "code",
   "execution_count": 3,
   "id": "2c1b44d6",
   "metadata": {},
   "outputs": [
    {
     "name": "stdout",
     "output_type": "stream",
     "text": [
      "2\n",
      "3\n",
      "5\n"
     ]
    }
   ],
   "source": [
    "'''Q1. Write a function that counts how many concentric layers a rug.\n",
    "\n",
    "Examples\n",
    "\n",
    "count_layers([\n",
    "  \"AAAA\",\n",
    "  \"ABBA\",\n",
    "  \"AAAA\"\n",
    "]) ➞ 2\n",
    "\n",
    "count_layers([\n",
    "  \"AAAAAAAAA\",\n",
    "  \"ABBBBBBBA\",\n",
    "  \"ABBAAABBA\",\n",
    "  \"ABBBBBBBA\",\n",
    "  \"AAAAAAAAA\"\n",
    "]) ➞ 3\n",
    "\n",
    "count_layers([\n",
    "  \"AAAAAAAAAAA\",\n",
    "  \"AABBBBBBBAA\",\n",
    "  \"AABCCCCCBAA\",\n",
    "  \"AABCAAACBAA\",\n",
    "  \"AABCADACBAA\",\n",
    "  \"AABCAAACBAA\",\n",
    "  \"AABCCCCCBAA\",\n",
    "  \"AABBBBBBBAA\",\n",
    "  \"AAAAAAAAAAA\"\n",
    "]) ➞ 5'''\n",
    "\n",
    "def count_layers(lst):\n",
    "    dic = {}\n",
    "    for i in lst:\n",
    "        dic[i] = dic.get(i,0) + 1\n",
    "    \n",
    "    print(len(dic))\n",
    "\n",
    "#1\n",
    "count_layers([\n",
    "  \"AAAA\",\n",
    "  \"ABBA\",\n",
    "  \"AAAA\"\n",
    "])\n",
    "\n",
    "#2\n",
    "count_layers([\n",
    "  \"AAAAAAAAA\",\n",
    "  \"ABBBBBBBA\",\n",
    "  \"ABBAAABBA\",\n",
    "  \"ABBBBBBBA\",\n",
    "  \"AAAAAAAAA\"\n",
    "])\n",
    "\n",
    "#3\n",
    "count_layers([\n",
    "  \"AAAAAAAAAAA\",\n",
    "  \"AABBBBBBBAA\",\n",
    "  \"AABCCCCCBAA\",\n",
    "  \"AABCAAACBAA\",\n",
    "  \"AABCADACBAA\",\n",
    "  \"AABCAAACBAA\",\n",
    "  \"AABCCCCCBAA\",\n",
    "  \"AABBBBBBBAA\",\n",
    "  \"AAAAAAAAAAA\"\n",
    "])    "
   ]
  },
  {
   "cell_type": "code",
   "execution_count": 17,
   "id": "11e6e9dd",
   "metadata": {},
   "outputs": [
    {
     "name": "stdout",
     "output_type": "stream",
     "text": [
      "9\n",
      "7\n"
     ]
    }
   ],
   "source": [
    "'''Q2. There are many different styles of music and many albums exhibit multiple styles. Create a function that takes a list of musical styles from albums and returns how many styles are unique.\n",
    "\n",
    "Examples\n",
    "\n",
    "unique_styles([\n",
    "  \"Dub,Dancehall\",\n",
    "  \"Industrial,Heavy Metal\",\n",
    "  \"Techno,Dubstep\",\n",
    "  \"Synth-pop,Euro-Disco\",\n",
    "  \"Industrial,Techno,Minimal\"\n",
    "]) ➞ 9\n",
    "\n",
    "unique_styles([\n",
    "  \"Soul\",\n",
    "  \"House,Folk\",\n",
    "  \"Trance,Downtempo,Big Beat,House\",\n",
    "  \"Deep House\",\n",
    "  \"Soul\"\n",
    "]) ➞ 7'''\n",
    "\n",
    "def unique_styles(lst):\n",
    "    l = []\n",
    "    for i in lst:\n",
    "        s = i.split(\",\")\n",
    "        l.append(s)\n",
    "    styles = [j for i in  l for j in i]\n",
    "        \n",
    "    dic = {}\n",
    "    for i in styles:\n",
    "        dic[i] = dic.get(i,0) + 1\n",
    "    print(len(dic))\n",
    "\n",
    "unique_styles([\n",
    "  \"Dub,Dancehall\",\n",
    "  \"Industrial,Heavy Metal\",\n",
    "  \"Techno,Dubstep\",\n",
    "  \"Synth-pop,Euro-Disco\",\n",
    "  \"Industrial,Techno,Minimal\"\n",
    "])\n",
    "\n",
    "unique_styles([\n",
    "  \"Soul\",\n",
    "  \"House,Folk\",\n",
    "  \"Trance,Downtempo,Big Beat,House\",\n",
    "  \"Deep House\",\n",
    "  \"Soul\"\n",
    "])"
   ]
  },
  {
   "cell_type": "code",
   "execution_count": 27,
   "id": "5dae008f",
   "metadata": {
    "scrolled": true
   },
   "outputs": [
    {
     "name": "stdout",
     "output_type": "stream",
     "text": [
      "yes\n",
      "no\n",
      "yes\n",
      "no\n"
     ]
    }
   ],
   "source": [
    "'''Q3. Create a function that finds a target number in a list of prime numbers. Implement a binary search algorithm in your function. The target number will be from 2 through 97. If the target is prime then return \"yes\" else return \"no\".\n",
    "\n",
    "Examples\n",
    "\n",
    "primes = [2, 3, 5, 7, 11, 13, 17, 19, 23, 29, 31, 37, 41, 43, 47, 53, 59, 61, 67, 71, 73, 79, 83, 89, 97]\n",
    "\n",
    "\n",
    "is_prime(primes, 3) ➞ \"yes\"\n",
    "\n",
    "is_prime(primes, 4) ➞ \"no\"\n",
    "\n",
    "is_prime(primes, 67) ➞ \"yes\"\n",
    "\n",
    "is_prime(primes, 36) ➞ \"no\"'''\n",
    "\n",
    "def is_prime(primes, num):\n",
    "    low = 0\n",
    "    high = len(primes)\n",
    "    mid = int((low + high)/2)\n",
    "    if num not in primes:\n",
    "        print(\"no\")\n",
    "    else:\n",
    "        first = 0\n",
    "        last = len(primes)-1\n",
    "        found = False\n",
    "        while( first<=last and not found):\n",
    "            mid = (first + last)//2\n",
    "            if primes[mid] == num :\n",
    "                found = True\n",
    "                print('yes')\n",
    "            else:\n",
    "                if num < primes[mid]:\n",
    "                    last = mid - 1\n",
    "                else:\n",
    "                    first = mid + 1\n",
    "                    \n",
    "is_prime(primes, 3)\n",
    "is_prime(primes, 4)           \n",
    "is_prime(primes, 67)\n",
    "is_prime(primes, 36)\n",
    "primes = [2, 3, 5, 7, 11, 13, 17, 19, 23, 29, 31, 37, 41, 43, 47, 53, 59, 61, 67, 71, 73, 79, 83, 89, 97]"
   ]
  },
  {
   "cell_type": "code",
   "execution_count": 49,
   "id": "302bee2e",
   "metadata": {},
   "outputs": [
    {
     "name": "stdout",
     "output_type": "stream",
     "text": [
      "2\n",
      "2\n",
      "1\n",
      "1\n",
      "3\n"
     ]
    }
   ],
   "source": [
    "'''Q4. Create a function that takes in n, a, b and returns the number of positive values raised to the nth power that lie in the range [a, b], inclusive.\n",
    "\n",
    "Examples\n",
    "\n",
    "power_ranger(2, 49, 65) ➞ 2\n",
    "# 2 squares (n^2) lie between 49 and 65, 49 (7^2) and 64 (8^2)\n",
    "\n",
    "power_ranger(3, 1, 27) ➞ 2\n",
    "# 3 cubes (n^3) lie between 1 and 27, 1 (1^3), 8 (2^3) and 27 (3^3)\n",
    "\n",
    "power_ranger(10, 1, 5) ➞ 1\n",
    "# 1 value raised to the 10th power lies between 1 and 5, 1 (1^10)\n",
    "\n",
    "power_ranger(5, 31, 33) ➞ 1\n",
    "\n",
    "power_ranger(4, 250, 1300) ➞ 3'''\n",
    "import math\n",
    "def power_ranger(n,a,b):\n",
    "    count = 0\n",
    "    for i in range(b): \n",
    "        if i**n in range(a,b):\n",
    "            count += 1 \n",
    "    print(count)\n",
    "\n",
    "power_ranger(2, 49, 65)\n",
    "power_ranger(3, 1, 27)\n",
    "power_ranger(10, 1, 5)\n",
    "power_ranger(5, 31, 33)\n",
    "power_ranger(4, 250, 1300)"
   ]
  },
  {
   "cell_type": "code",
   "execution_count": 50,
   "id": "5fb4ed22",
   "metadata": {},
   "outputs": [
    {
     "name": "stdout",
     "output_type": "stream",
     "text": [
      "Enter number, min, max values: 3 1 27\n",
      "1^3 lies between 1 and 27\n",
      "2^3 lies between 1 and 27\n",
      "Total values found = 2\n"
     ]
    }
   ],
   "source": [
    "count = 0 \n",
    "n, min, max = map(int,input('Enter number, min, max values: ').split()) \n",
    "for i in range(max): \n",
    "\tif i**n in range(min,max): \n",
    "\t\tprint('{}^{} lies between {} and {}'.format(i,n,min,max)) \n",
    "\t\tcount += 1 \n",
    "print('Total values found =',count) "
   ]
  },
  {
   "cell_type": "code",
   "execution_count": 40,
   "id": "2c2cb19c",
   "metadata": {},
   "outputs": [
    {
     "name": "stdout",
     "output_type": "stream",
     "text": [
      "760833\n",
      "7709823\n",
      "90981\n"
     ]
    }
   ],
   "source": [
    "'''Q5. Given a number, return the difference between the maximum and minimum numbers that can be formed when the digits are rearranged.\n",
    "\n",
    "Examples\n",
    "\n",
    "rearranged_difference(972882) ➞ 760833\n",
    "# 988722 - 227889 = 760833\n",
    "\n",
    "rearranged_difference(3320707) ➞ 7709823\n",
    "# 7733200 - 23377 = 7709823\n",
    "\n",
    "rearranged_difference(90010) ➞ 90981\n",
    "# 91000 - 19 = 90981'''\n",
    "\n",
    "def rearranged_difference(num):\n",
    "    num1 = \"\"\n",
    "    num2 = \"\"\n",
    "    \n",
    "    for i in sorted(str(num), reverse = True):\n",
    "        num1 = num1 + i\n",
    "        \n",
    "    for i in sorted(str(num)):\n",
    "        num2 = num2 + i\n",
    "        \n",
    "    num1 = int(num1)\n",
    "    num2 = int(num2)\n",
    "    result = num1-num2\n",
    "    print(result)\n",
    "    \n",
    "rearranged_difference(972882)\n",
    "rearranged_difference(3320707)\n",
    "rearranged_difference(90010)"
   ]
  }
 ],
 "metadata": {
  "kernelspec": {
   "display_name": "Python 3",
   "language": "python",
   "name": "python3"
  },
  "language_info": {
   "codemirror_mode": {
    "name": "ipython",
    "version": 3
   },
   "file_extension": ".py",
   "mimetype": "text/x-python",
   "name": "python",
   "nbconvert_exporter": "python",
   "pygments_lexer": "ipython3",
   "version": "3.8.8"
  }
 },
 "nbformat": 4,
 "nbformat_minor": 5
}
