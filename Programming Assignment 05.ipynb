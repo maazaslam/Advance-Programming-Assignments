{
 "cells": [
  {
   "cell_type": "markdown",
   "id": "e3619d7b",
   "metadata": {},
   "source": [
    "# Python Advance Programming Assignment 05"
   ]
  },
  {
   "cell_type": "code",
   "execution_count": 2,
   "id": "10adfc21",
   "metadata": {},
   "outputs": [
    {
     "name": "stdout",
     "output_type": "stream",
     "text": [
      "2\n",
      "8\n",
      "2\n"
     ]
    }
   ],
   "source": [
    "'''Q1. Create a function that takes a number n (integer greater than zero) as an argument, and returns 2 if n is odd and 8 if n is even.\n",
    "\n",
    "You can only use the following arithmetic operators: addition of numbers +, subtraction of numbers -, multiplication of number *, division of number /, and exponentiation **.\n",
    "\n",
    "You are not allowed to use any other methods in this challenge (i.e. no if statements, comparison operators, etc).\n",
    "\n",
    "Examples\n",
    "\n",
    "f(1) ➞ 2\n",
    "\n",
    "f(2) ➞ 8\n",
    "\n",
    "f(3) ➞ 2'''\n",
    "\n",
    "def f(n) :\n",
    "    arr = [\"8\", \"2\"]\n",
    "    b = n%2\n",
    "    print(arr[b])\n",
    "\n",
    "\n",
    "f(1)\n",
    "f(2)\n",
    "f(3)"
   ]
  },
  {
   "cell_type": "code",
   "execution_count": 3,
   "id": "2e49368b",
   "metadata": {},
   "outputs": [
    {
     "name": "stdout",
     "output_type": "stream",
     "text": [
      "A\n",
      "A\n",
      "None\n"
     ]
    }
   ],
   "source": [
    "'''Q2. Create a function that returns the majority vote in a list. A majority vote is an element that occurs > N/2 times in a list (where N is the length of the list).\n",
    "\n",
    "Examples\n",
    "\n",
    "majority_vote([\"A\", \"A\", \"B\"]) ➞ \"A\"\n",
    "\n",
    "majority_vote([\"A\", \"A\", \"A\", \"B\", \"C\", \"A\"]) ➞ \"A\"\n",
    "\n",
    "majority_vote([\"A\", \"B\", \"B\", \"A\", \"C\", \"C\"]) ➞ None'''\n",
    "\n",
    "def majority_vote(lst):\n",
    "    dic = {}\n",
    "    for i in lst:\n",
    "        dic[i] = dic.get(i, 0) + 1\n",
    "    \n",
    "    l = [(value, key) for key , value in dic.items()]\n",
    "    l = sorted(l, reverse = True)\n",
    "    if l[0][0] == l[1][0] and l[0][0] == l[2][0]:\n",
    "        print(None)\n",
    "    else:\n",
    "        print(l[0][1])\n",
    "\n",
    "majority_vote([\"A\", \"A\", \"B\"])\n",
    "majority_vote([\"A\", \"A\", \"A\", \"B\", \"C\", \"A\"])\n",
    "majority_vote([\"A\", \"B\", \"B\", \"A\", \"C\", \"C\"])"
   ]
  },
  {
   "cell_type": "code",
   "execution_count": 5,
   "id": "9aa943a0",
   "metadata": {},
   "outputs": [
    {
     "name": "stdout",
     "output_type": "stream",
     "text": [
      "----- is - Wednesday!\n",
      "The *** jumped **** the moon.\n",
      "Why *** the ******* cross the road?\n"
     ]
    }
   ],
   "source": [
    "'''Q3. Create a function that takes a string txt and censors any word from a given list lst. The text removed must be replaced by the given character char.\n",
    "\n",
    "Examples\n",
    "\n",
    "censor_string(\"Today is a Wednesday!\", [\"Today\", \"a\"], \"-\") ➞ \"----- is - Wednesday!\"\n",
    "\n",
    "censor_string(\"The cow jumped over the moon.\", [\"cow\", \"over\"], \"*\"), \"The *** jumped **** the moon.\")\n",
    "\n",
    "censor_string(\"Why did the chicken cross the road?\", [\"Did\", \"chicken\", \"road\"], \"*\") ➞ \"Why *** the ******* cross the ****?\"'''\n",
    "\n",
    "def censor_string(string, lst, char):\n",
    "    str_list = string.split(\" \")\n",
    "    lower_lst = [item.lower() for item in lst]\n",
    "    for i in str_list:\n",
    "        if i in lst or i in lower_lst:\n",
    "            index = str_list.index(i) \n",
    "            str_list[index] = char*len(i)\n",
    "        \n",
    "    print(\" \".join(str_list))\n",
    "censor_string(\"Today is a Wednesday!\", [\"Today\", \"a\"], \"-\")\n",
    "censor_string(\"The cow jumped over the moon.\", [\"cow\", \"over\"], \"*\")\n",
    "censor_string(\"Why did the chicken cross the road?\", [\"Did\", \"chicken\", \"road\"], \"*\")"
   ]
  },
  {
   "cell_type": "code",
   "execution_count": 24,
   "id": "572e7a18",
   "metadata": {},
   "outputs": [
    {
     "name": "stdout",
     "output_type": "stream",
     "text": [
      "True\n",
      "False\n"
     ]
    }
   ],
   "source": [
    "'''Q4. In mathematics a Polydivisible Number (or magic number) is a number in a given number base with digits abcde... that has the following properties:\n",
    "\n",
    "-  Its first digit a is not 0.\n",
    "- The number formed by its first two digits ab is a multiple of 2.\n",
    "- The number formed by its first three digits abc is a multiple of 3.\n",
    "- The number formed by its first four digits abcd is a multiple of 4.\n",
    "\n",
    "Create a function which takes an integer n and returns True if the given number is a Polydivisible Number and False otherwise.\n",
    "\n",
    "Examples\n",
    "\n",
    "is_polydivisible(1232) ➞ True\n",
    "# 1     / 1 = 1\n",
    "# 12    / 2 = 6\n",
    "# 123   / 3 = 41\n",
    "# 1232  / 4 = 308\n",
    "\n",
    "is_polydivisible(123220 ) ➞ False\n",
    "# 1   / 1 = 1\n",
    "# 12   / 2 = 6\n",
    "# 123   / 3 = 41\n",
    "# 1232   / 4 = 308\n",
    "# 12322   / 5 = 2464.4         # Not a Whole Number\n",
    "# 123220   /6 = 220536.333...  # Not a Whole Number'''\n",
    "\n",
    "def is_polydivisible(number):\n",
    "    string = str(number)\n",
    "    l = []\n",
    "    for i in range(len(string),0,-1):\n",
    "        l.append(s[0:i])\n",
    "    l = l[::-1]\n",
    "    \n",
    "    count = 0\n",
    "    for i in range(len(string),0,-1):\n",
    "        \n",
    "        x = l[i-1]\n",
    "        if (int(x) % (i)) == 0:\n",
    "            count +=1\n",
    "            \n",
    "    if count == len(string):\n",
    "        print(True)\n",
    "    else:\n",
    "        print(False)\n",
    "    \n",
    "is_polydivisible(1232)\n",
    "is_polydivisible(123220 )      "
   ]
  },
  {
   "cell_type": "code",
   "execution_count": 47,
   "id": "92821416",
   "metadata": {},
   "outputs": [
    {
     "name": "stdout",
     "output_type": "stream",
     "text": [
      "17\n",
      "639\n",
      "None\n"
     ]
    }
   ],
   "source": [
    "'''Q5. Create a function that takes a list of numbers and returns the sum of all prime numbers in the list.\n",
    "\n",
    "Examples\n",
    "\n",
    "sum_primes([1, 2, 3, 4, 5, 6, 7, 8, 9, 10]) ➞ 17\n",
    "\n",
    "sum_primes([2, 3, 4, 11, 20, 50, 71]) ➞ 87\n",
    "\n",
    "sum_primes([]) ➞ None'''\n",
    "\n",
    "def sum_primes(lst):\n",
    "    try:\n",
    "        lst = list(lst)\n",
    "        odd_list = []\n",
    "        for num in range(lst[0], lst[-1]+1):\n",
    "            if num > 1:\n",
    "                for i in range(2, num):\n",
    "                    if (num%i)==0:\n",
    "                        break\n",
    "                else:\n",
    "                    odd_list.append(num)\n",
    "        sum = 0    \n",
    "        for i in odd_list:\n",
    "            sum = sum + i\n",
    "        print(sum)\n",
    "    except:\n",
    "        print(\"None\")\n",
    "    \n",
    "sum_primes([1, 2, 3, 4, 5, 6, 7, 8, 9, 10])\n",
    "sum_primes([2, 3, 4, 11, 20, 50, 71])\n",
    "sum_primes([])"
   ]
  }
 ],
 "metadata": {
  "kernelspec": {
   "display_name": "Python 3",
   "language": "python",
   "name": "python3"
  },
  "language_info": {
   "codemirror_mode": {
    "name": "ipython",
    "version": 3
   },
   "file_extension": ".py",
   "mimetype": "text/x-python",
   "name": "python",
   "nbconvert_exporter": "python",
   "pygments_lexer": "ipython3",
   "version": "3.8.8"
  }
 },
 "nbformat": 4,
 "nbformat_minor": 5
}
