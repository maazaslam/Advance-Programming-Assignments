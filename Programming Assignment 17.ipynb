{
 "cells": [
  {
   "cell_type": "markdown",
   "id": "97449d4a",
   "metadata": {},
   "source": [
    "# Python Advance Programming Assignment 17"
   ]
  },
  {
   "cell_type": "code",
   "execution_count": 46,
   "id": "7256c6b2",
   "metadata": {},
   "outputs": [
    {
     "name": "stdout",
     "output_type": "stream",
     "text": [
      "[[1 2 3]\n",
      " [1 2 3]\n",
      " [1 2 3]] \n",
      "\n",
      "[[5 6 9]\n",
      " [5 7 1]] \n",
      "\n"
     ]
    }
   ],
   "source": [
    "'''Q1. . Create a function that transposes a 2D matrix.\n",
    "\n",
    "Examples\n",
    "\n",
    "transpose_matrix([\n",
    "  [1, 1, 1],\n",
    "  [2, 2, 2],\n",
    "  [3, 3, 3]\n",
    "]) ➞ [\n",
    "  [1, 2, 3],\n",
    "  [1, 2, 3],\n",
    "  [1, 2, 3]\n",
    "]\n",
    "\n",
    "transpose_matrix([\n",
    "  [5, 5],\n",
    "  [6, 7],\n",
    "  [9, 1]\n",
    "]) ➞ [\n",
    "  [5, 6, 9],\n",
    "  [5, 7, 1]\n",
    "]'''\n",
    "import numpy as np\n",
    "def transpose_matrix(arr):\n",
    "    arr = np.array(arr)\n",
    "    return print(arr.T,\"\\n\")\n",
    "\n",
    "transpose_matrix([\n",
    "  [1, 1, 1],\n",
    "  [2, 2, 2],\n",
    "  [3, 3, 3]\n",
    "]) \n",
    "\n",
    "transpose_matrix([\n",
    "  [5, 5],\n",
    "  [6, 7],\n",
    "  [9, 1]\n",
    "])"
   ]
  },
  {
   "cell_type": "code",
   "execution_count": 47,
   "id": "238cec7e",
   "metadata": {},
   "outputs": [
    {
     "name": "stdout",
     "output_type": "stream",
     "text": [
      "True\n",
      "True\n",
      "True\n",
      "False\n",
      "False\n",
      "False\n",
      "False\n"
     ]
    }
   ],
   "source": [
    "'''Q2. Create a function that determines whether a string is a valid hex code.\n",
    "\n",
    "A hex code must begin with a pound key # and is exactly 6 characters in length. Each character must be a digit from 0-9 or an alphabetic character from A-F. All alphabetic characters may be uppercase or lowercase.\n",
    "\n",
    "Examples\n",
    "\n",
    "is_valid_hex_code(\"#CD5C5C\") ➞ True\n",
    "\n",
    "is_valid_hex_code(\"#EAECEE\") ➞ True\n",
    "\n",
    "is_valid_hex_code(\"#eaecee\") ➞ True\n",
    "\n",
    "is_valid_hex_code(\"#CD5C58C\") ➞ False\n",
    "# Length exceeds 6\n",
    "\n",
    "is_valid_hex_code(\"#CD5C5Z\") ➞ False\n",
    "# Not all alphabetic characters in A-F\n",
    "\n",
    "is_valid_hex_code(\"#CD5C&C\") ➞ False\n",
    "# Contains unacceptable character\n",
    "\n",
    "is_valid_hex_code(\"CD5C5C\") ➞ False\n",
    "# Missing #'''\n",
    "\n",
    "def is_valid_hex_code(string):\n",
    "    valid_char = '#0123456789ABCDEFabcedf'\n",
    "    for i in string:\n",
    "        if i not in valid_char or len(string) > 7 or '#' not in string:\n",
    "            return print(False)\n",
    "    return print(True)\n",
    "\n",
    "is_valid_hex_code(\"#CD5C5C\")\n",
    "is_valid_hex_code(\"#EAECEE\")\n",
    "is_valid_hex_code(\"#eaecee\")\n",
    "is_valid_hex_code(\"#CD5C58C\")\n",
    "is_valid_hex_code(\"#CD5C5Z\")\n",
    "is_valid_hex_code(\"#CD5C&C\")\n",
    "is_valid_hex_code(\"CD5C5C\")"
   ]
  },
  {
   "cell_type": "code",
   "execution_count": 48,
   "id": "311cb7ec",
   "metadata": {},
   "outputs": [
    {
     "name": "stdout",
     "output_type": "stream",
     "text": [
      "75%\n",
      "0%\n",
      "67%\n"
     ]
    }
   ],
   "source": [
    "'''Q3. Given a list of math equations (given as strings), return the percentage of correct answers as a string. Round to the nearest whole number.\n",
    "\n",
    "Examples\n",
    "\n",
    "mark_maths([\"2+2=4\", \"3+2=5\", \"10-3=3\", \"5+5=10\"]) ➞ \"75%\"\n",
    "\n",
    "mark_maths([\"1-2=-2\"]), \"0%\"\n",
    "\n",
    "mark_maths([\"2+3=5\", \"4+4=9\", \"3-1=2\"]) ➞ \"67%\"'''\n",
    "\n",
    "def mark_maths(lst):\n",
    "    count = 0\n",
    "    x = []\n",
    "    y = []\n",
    "    \n",
    "    for i in lst:\n",
    "        x.append(eval(i[:i.index(\"=\")]))\n",
    "    \n",
    "    for j in lst:\n",
    "        y.append(eval(j[j.index(\"=\")+1:]))\n",
    "    \n",
    "    for k in range(len(lst)):\n",
    "        if x[k] == y[k]:\n",
    "            count +=1\n",
    "    print(round(count/len(lst)*100), \"%\", sep = \"\")\n",
    "\n",
    "mark_maths([\"2+2=4\", \"3+2=5\", \"10-3=3\", \"5+5=10\"])\n",
    "mark_maths([\"1-2=-2\"])\n",
    "mark_maths([\"2+3=5\", \"4+4=9\", \"3-1=2\"])"
   ]
  },
  {
   "cell_type": "code",
   "execution_count": 49,
   "id": "0ef61395",
   "metadata": {},
   "outputs": [
    {
     "name": "stdout",
     "output_type": "stream",
     "text": [
      "False\n",
      "True\n",
      "True\n",
      "False\n"
     ]
    }
   ],
   "source": [
    "'''Q4. There are two players, Alice and Bob, each with a 3-by-3 grid. A referee tells Alice to fill out one particular row in the grid (say the second row) by putting either a 1 or a 0 in each box, such that the sum of the numbers in that row is odd. The referee tells Bob to fill out one column in the grid (say the first column) by putting either a 1 or a 0 in each box, such that the sum of the numbers in that column is even.\n",
    "\n",
    "Alice and Bob win the game if Alice’s numbers give an odd sum, Bob’s give an even sum, and (most important) they’ve each written down the same number in the one square where their row and column intersect.\n",
    "\n",
    "Examples\n",
    "\n",
    "magic_square_game([2, \"100\"], [1, \"101\"]) ➞ False\n",
    "\n",
    "magic_square_game([2, \"001\"], [1, \"101\"]) ➞ True\n",
    "\n",
    "magic_square_game([3, \"111\"], [2, \"011\"]) ➞ True\n",
    "\n",
    "magic_square_game([1, \"010\"], [3, \"101\"]) ➞ False\n",
    "\n",
    "# Two lists, Alice [row, \"her choice\"], Bob [column, \"his choice\"]'''\n",
    "\n",
    "import numpy as np\n",
    "def magic_square_game(alice, bob):\n",
    "    #alice = [row, her choice]\n",
    "    #bob = [column, his choice]\n",
    "    x = [[0,0,0],\n",
    "          [0,0,0],\n",
    "          [0,0,0]]\n",
    "    \n",
    "    y = [[0,0,0],\n",
    "          [0,0,0],\n",
    "          [0,0,0]]\n",
    "    \n",
    "    for i in range(len(x)):\n",
    "        if i == alice[0]-1:\n",
    "            for j in range(len(x)):\n",
    "                x[i][j] = int(alice[1][j])\n",
    "    \n",
    "    for i in range(len(y)):\n",
    "        for j in range(len(y)):\n",
    "            if j == bob[0]-1:\n",
    "                y[i][j] = int(bob[1][i])\n",
    "    \n",
    "    a = alice[0]-1\n",
    "    b = bob[0]-1\n",
    "    \n",
    "    if x[a][b] ==  y[a][b]:\n",
    "         return print(True)\n",
    "    else:\n",
    "        return print(False)\n",
    "            \n",
    "\n",
    "magic_square_game([2, \"100\"], [1, \"101\"])\n",
    "\n",
    "magic_square_game([2, \"001\"], [1, \"101\"])\n",
    "    \n",
    "magic_square_game([3, \"111\"], [2, \"011\"])\n",
    "\n",
    "magic_square_game([1, \"010\"], [3, \"101\"])"
   ]
  },
  {
   "cell_type": "code",
   "execution_count": 50,
   "id": "93785e8c",
   "metadata": {},
   "outputs": [
    {
     "name": "stdout",
     "output_type": "stream",
     "text": [
      "2h 30min 0s\n",
      "1h 52min 0s\n",
      "0h 39min 34s\n"
     ]
    }
   ],
   "source": [
    "'''Q5. From point A, an object is moving towards point B at constant velocity va (in km/hr). From point B, another object is moving towards point A at constant velocity vb (in km/hr). Knowing this and the distance between point A and B (in km), write a function that returns how much time passes until both objects meet.\n",
    "\n",
    "Format the output like this:\n",
    "\n",
    "\"2h 23min 34s\"\n",
    "\n",
    "Examples\n",
    "\n",
    "lets_meet(100, 10, 30) ➞ \"2h 30min 0s\"\n",
    "\n",
    "lets_meet(280, 70, 80) ➞ \"1h 52min 0s\"\n",
    "\n",
    "lets_meet(90, 75, 65) ➞ \"0h 38min 34s\"'''\n",
    "\n",
    "def lets_meet(dist, speed_1, speed_2):\n",
    "    time = dist/(speed_1+speed_2)\n",
    "    \n",
    "    hour = int(time)\n",
    "    minutes = round((time*60) % 60)\n",
    "    seconds = round((time*3600) % 60)\n",
    "    \n",
    "    print(hour,\"h \", minutes,\"min \", seconds,\"s\", sep = \"\")\n",
    "\n",
    "lets_meet(100, 10, 30)\n",
    "lets_meet(280, 70, 80)\n",
    "lets_meet(90, 75, 65)"
   ]
  }
 ],
 "metadata": {
  "kernelspec": {
   "display_name": "Python 3",
   "language": "python",
   "name": "python3"
  },
  "language_info": {
   "codemirror_mode": {
    "name": "ipython",
    "version": 3
   },
   "file_extension": ".py",
   "mimetype": "text/x-python",
   "name": "python",
   "nbconvert_exporter": "python",
   "pygments_lexer": "ipython3",
   "version": "3.8.8"
  }
 },
 "nbformat": 4,
 "nbformat_minor": 5
}
